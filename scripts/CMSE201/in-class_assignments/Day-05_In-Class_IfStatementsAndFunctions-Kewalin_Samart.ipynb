{
 "cells": [
  {
   "cell_type": "markdown",
   "metadata": {},
   "source": [
    "### <p style=\"text-align: right;\"> &#9989; Kewalin Samart\n",
    "<p style=\"text-align: right;\"> &#9989; Becca Snyder, Briana Jessica Hidalgo, Chase Haverberg, Johny Danstrom, Tabatha Lindsey Guill"
   ]
  },
  {
   "cell_type": "markdown",
   "metadata": {},
   "source": [
    "# Day 5 In-class Assignment: What goes up, must come down.\n",
    "![Snowballs](https://img-aws.ehowcdn.com/750x428p/cpi.studiod.com/www_ehow_com/photos.demandstudios.com/getty/article/232/235/457777167_XS.jpg)"
   ]
  },
  {
   "cell_type": "markdown",
   "metadata": {},
   "source": [
    "## Personal Academic Integrity Statement¶\n",
    "\n",
    "I, Kewalin Samart, value the learning environment and oportunities that MSU provides. I would like honor everyone who has made this possible for me. I will do my best on every assignment and will not copy or use other people's code, work, or ideas without properly citing their credentials.\n"
   ]
  },
  {
   "cell_type": "markdown",
   "metadata": {},
   "source": [
    "## Learning Goals:\n",
    "\n",
    "By the end of this assignment you should be able to:\n",
    "\n",
    "* Review code that uses `if`, `elif`, and `else` statments and understand the logical flow of the program\n",
    "* Write `if`/`elif`/`else` statements in Python.\n",
    "* Create and use basic functions in Python.\n"
   ]
  },
  {
   "cell_type": "markdown",
   "metadata": {},
   "source": [
    "---\n",
    "## Part 1: Understanding `if` statements in Python\n",
    "\n",
    "As you learned in your pre-class assignment, `if` statements provide an mechanism for \"**branching**\" to occur in your code. Depending on whether or not something is determined to be true, your code can pursue one branch, or another, or do nothing at all. The `else` statement allows your code to execute *something* even if none of the `if` or `elif` statements you write are found to be true. By combining these sorts of commands in a variety of ways we can create a very complex system of branches in our code.\n",
    "\n",
    "&#9989;&nbsp; **Review and run** the following bit of example code.\n",
    "\n",
    "&#9989;&nbsp; **Add comments** to explain what various parts of the code are doing! You may need to run the cell a few times to make sure you understand and feel free to change the values for the `some_numbers` list to test and see if things are working as you think they are. Talk to your group about any parts of the code you don't understand!"
   ]
  },
  {
   "cell_type": "code",
   "execution_count": 2,
   "metadata": {},
   "outputs": [
    {
     "name": "stdout",
     "output_type": "stream",
     "text": [
      "Square root of 2.0 is 1.4142\n",
      "Square root is not real.\n",
      "Square root of 16.0 is 4.0000\n",
      "Square root of 17.0 is 4.1231\n",
      "Square root is not real.\n",
      "Square root of 23.0 is 4.7958\n",
      "Square root of 0.0 is 0.0000\n",
      "The number is positive.\n",
      "The number is negative.\n",
      "The number is positive.\n",
      "The number is positive.\n",
      "The number is negative.\n",
      "The number is positive.\n",
      "The number is zero.\n"
     ]
    }
   ],
   "source": [
    "some_numbers = [2, -5, 16, 17, -6, 23, 0]\n",
    "\n",
    "for i in range(len(some_numbers)):  # loop through each number in the list\n",
    "    number = float(some_numbers[i]) # convert each number to float\n",
    "    if number < 0:                  # if the number is less than 0, then print 'Square root is not real'\n",
    "        print('Square root is not real.')\n",
    "    else:\n",
    "        print('Square root of {} is {:.4f}'.format(number, number**(1/2))) # if the number is bigger or equal to zero, print out the number's square root\n",
    "        # What going on with all the {}'s and the \"format\" bits above?\n",
    "        \n",
    "for number in some_numbers: # check if each number in the list is positive, negative, or zero.\n",
    "    if number > 0:\n",
    "        print('The number is positive.')\n",
    "    elif number < 0:\n",
    "        print('The number is negative.')\n",
    "    else:\n",
    "        print('The number is zero.')"
   ]
  },
  {
   "cell_type": "markdown",
   "metadata": {},
   "source": [
    "&#9989;&nbsp; **Question**: What does `float(some_numbers[i])` do?"
   ]
  },
  {
   "cell_type": "markdown",
   "metadata": {},
   "source": [
    "<font size=\"+3\">&#9998;</font> \n",
    "make the number in the list change from an integer to a float."
   ]
  },
  {
   "cell_type": "markdown",
   "metadata": {},
   "source": [
    "&#9989;&nbsp; **Question**: What does the `len()` function do?"
   ]
  },
  {
   "cell_type": "markdown",
   "metadata": {},
   "source": [
    "<font size=\"+3\">&#9998;</font> \n",
    "output the length of the argument we put in the parentheses"
   ]
  },
  {
   "cell_type": "markdown",
   "metadata": {},
   "source": [
    "&#9989;&nbsp; **Question**: What does the `range()` function do?"
   ]
  },
  {
   "cell_type": "markdown",
   "metadata": {},
   "source": [
    "<font size=\"+3\">&#9998;</font> define a range of number that we want"
   ]
  },
  {
   "cell_type": "markdown",
   "metadata": {},
   "source": [
    "---\n",
    "## Part 2: Writing your own `if` statements\n",
    "\n",
    "Sometimes in computational modeling and data science, you need to be able parse a set of numbers or data and execute particular tasks based on the how those numbers compare to each other. Conditional statements that use things like `<`, `>`, `>=`, or `==` combined with logical operators like `and` and `or` provide an excellent mechanism for comparing values! Try the following:\n",
    "\n",
    "&#9989;&nbsp; **Write a program** that compares three variables v1, v2, and v3 (initial values are provide below) and does the following using `if` statements:\n",
    "\n",
    "1. If v1 is equal to v2, print \"woohoo!\"\n",
    "2. If v1 is the smallest value of the three (i.e., v1 is less than both v2 and v3), print out \"v1 is tiny!\"\n",
    "3. If v1 *is* the smallest value, add a nested if statement to print out a statement saying whether v2 or v3 is the largest value.\n",
    "\n",
    "Try several values of v1, v2 and v3 and ensure that you see the correct behavior. \n",
    "\n",
    "**Suggestion**: Make sure you work together with your group to solve this. **Planning it out on the whiteboard can also be useful!**\n",
    "\n",
    "**Note**: Although you learned briefly about functions in your pre-class assignment, don't worry about using functions just yet!"
   ]
  },
  {
   "cell_type": "code",
   "execution_count": 4,
   "metadata": {},
   "outputs": [
    {
     "name": "stdout",
     "output_type": "stream",
     "text": [
      "v2 or v3 is less than v1\n"
     ]
    }
   ],
   "source": [
    "# Put your code here. Initial values for v1, v2, and v3 are provided.\n",
    "# Make sure to test out new values to ensure your code works as intended!\n",
    "\n",
    "v1 = 5\n",
    "v2 = 2\n",
    "v3 = 3\n",
    "\n",
    "if v1 == v2:\n",
    "    print(\"woohoo!\")\n",
    "elif (v1 < v2) & (v1 < v3):\n",
    "    print(\"v1 is tiny!\")\n",
    "    \n",
    "    if v2 > v3:\n",
    "        print(\"v2 is the largest value\")\n",
    "    elif v3 > v2:\n",
    "        print(\"v3 is the largest value\")\n",
    "    else:\n",
    "        print(\"v2 is equal to v3\")\n",
    "else:\n",
    "    print(\"v2 or v3 is less than v1\")\n"
   ]
  },
  {
   "cell_type": "markdown",
   "metadata": {},
   "source": [
    "&#9989;&nbsp; **Question**: What happens in your code if either v2 or v3 is less than v1? "
   ]
  },
  {
   "cell_type": "markdown",
   "metadata": {},
   "source": [
    "<font size=\"+3\">&#9998;</font> It will print out \"v2 or v3 is less than v1\""
   ]
  },
  {
   "cell_type": "markdown",
   "metadata": {},
   "source": [
    "---\n",
    "## Part 3: Revisiting the snowball problem\n",
    "\n",
    "You've still been pondering that snowball prank you plan to play on your roommate and you've continued to think about exactly how high you can get that snowball to go. In the last class you planned out how you might go about solving for the maximal height of the snowball and you might have even coded up one possible solution.\n",
    "\n",
    "**Now** you're going to try to use a combination of if statements and loops to find the maximum height. Keep in mind this might not be the \"best\" solution and it might be quite different than your solution. That's OK! In computational modeling and data science there is often more than one way to solve a problem and each solution will have it's own set of advantages and disadvantages."
   ]
  },
  {
   "cell_type": "markdown",
   "metadata": {},
   "source": [
    "### A reminder: the math behind the model\n",
    "\n",
    "To refresh your memory, the equation for the height of the snowball as a function  is given by:\n",
    "\n",
    "$$h(t) = h_0 + v_0t - \\frac{1}{2}gt^2$$\n",
    "\n",
    "where $h$ is the height of the snowball as a function of time, $h_0$ is the initial height that the snowball is launched from, $v_0$ is the initial speed the snowball is launched with, $g$ is the acceleration due to gravity, and $t$ is the time in seconds. \n",
    "\n",
    "As before, you know that the initial height that the snowball is launched from, $h_0$, is roughly your height since you'll be throwing it, which we'll approximate as **1.75 meters**.\n",
    "\n",
    "You also recall that at some point you learned that the **acceleration due to gravity is 9.8 m/s$^2$**\n",
    "\n",
    "### So, how high will the snowball go and when will it get there?\n",
    "\n",
    "Let's assume that you've been doing a lot of training and you've gotten to the point where you can now launch a snowball into the air at **an initial speed of 47 m/s** (coincidentally, you're suddenly being recruited by several major league baseball teams).\n",
    "\n",
    "&#9989;&nbsp; **Write a program** that does the following:\n",
    "\n",
    "1. Starting at $t = 0$, use a loop to compute the height of the snowball as a function of time until $t = 10$, in increments of 0.5 seconds.\n",
    "2. Using an `if` statement, determine the maximum height of the snowball and the time at which the snowball reaches that height. At the end of the loop, print out the maximum height and the corresponding time.\n",
    "3. Using an `if` or `elif` statement, when the height of the snowball starts to decrease, print \"The snowball is falling!\".\n",
    "\n",
    "**Work out a plan on your whiteboard before you start coding!**"
   ]
  },
  {
   "cell_type": "code",
   "execution_count": 14,
   "metadata": {},
   "outputs": [
    {
     "name": "stdout",
     "output_type": "stream",
     "text": [
      "At t = 5.5 , the snowball is falling\n",
      "At t = 6.0 , the snowball is falling\n",
      "At t = 6.5 , the snowball is falling\n",
      "At t = 7.0 , the snowball is falling\n",
      "At t = 7.5 , the snowball is falling\n",
      "At t = 8.0 , the snowball is falling\n",
      "At t = 8.5 , the snowball is falling\n",
      "At t = 9.0 , the snowball is falling\n",
      "At t = 9.5 , the snowball is falling\n",
      "The maximum height is: 114.24999999999999\n",
      "The time that the snow ball reaches the maximum height is: 5.0\n",
      "The list of height at each time = t: [1.75, 24.025, 43.85, 61.225, 76.15, 88.625, 98.65, 106.225, 111.35, 114.02499999999999, 114.24999999999999, 112.02499999999998, 107.35, 100.225, 90.64999999999998, 78.625, 64.14999999999998, 47.224999999999966, 27.849999999999966, 6.024999999999977]\n"
     ]
    }
   ],
   "source": [
    "# Put your code here\n",
    "t = 0\n",
    "max_height = 1.75 # initial height \n",
    "g = 9.8\n",
    "init_speed = 47\n",
    "height_list = list()\n",
    "t_max_height = 0\n",
    "\n",
    "while t < 10:\n",
    "    new_height = (-0.5*g*t**2)+(init_speed*t)+1.75\n",
    "    height_list.append(new_height)\n",
    "    \n",
    "    if new_height > max_height:\n",
    "        max_height = new_height\n",
    "        t_max_height = t\n",
    "    elif new_height < max_height:\n",
    "        print(\"At t =\",t,\", the snowball is falling\")\n",
    "    t += 0.5\n",
    "    \n",
    "print(\"The maximum height is:\", max_height)\n",
    "print(\"The time that the snow ball reaches the maximum height is:\", t_max_height)\n",
    "print(\"The list of height at each time = t:\", height_list)\n",
    "    "
   ]
  },
  {
   "cell_type": "markdown",
   "metadata": {},
   "source": [
    "&#9989;&nbsp; **Question**: What was the maximum height of your snowball and at what time did it reach that height?"
   ]
  },
  {
   "cell_type": "markdown",
   "metadata": {},
   "source": [
    "<font size=\"+3\">&#9998;</font> The maximum height is 114.249 meters and the time that it reaches that height is at 5.0 seconds."
   ]
  },
  {
   "cell_type": "markdown",
   "metadata": {},
   "source": [
    "&#9989;&nbsp; **Question**: What happens when you decrease the size of your time step? Does your value for the maximum height change? Try varying the time step size to find out. Can you come up with a better estimate for the maximum height? What are the tradeoffs between computing a really accurate height and number of timesteps required to compute it?"
   ]
  },
  {
   "cell_type": "markdown",
   "metadata": {},
   "source": [
    "<font size=\"+3\">&#9998;</font> The smaller increment the better estmation of the maximum height would be. So I guess we can try to set the increment to be as small as possible to get better approximation. Using increment steps would result in missing some values of t. "
   ]
  },
  {
   "cell_type": "markdown",
   "metadata": {},
   "source": [
    "---\n",
    "### &#128721; STOP\n",
    "Check in with an instructor before continuing!\n"
   ]
  },
  {
   "cell_type": "markdown",
   "metadata": {},
   "source": [
    "---\n",
    "## Part 4: Writing functions\n",
    "\n",
    "Now that you've had some practice writing a variety of if statements and loops at this point in the course, we want to try turning some of the code you've written into functions. Functions are **extremely useful** and you should try to get in the habit of writing functions in your code. This helps to compartmentalize your code and make it easier to both use and read -- including for yourself!"
   ]
  },
  {
   "cell_type": "markdown",
   "metadata": {},
   "source": [
    "### Part 4.1: A Little Reminder\n",
    "\n",
    "To start we have a little reminder from the pre-class about writing functions.\n",
    "\n",
    "&#9989;&nbsp; **Write a function**, called \"`find_remainder`\", that takes as inputs 2 different integers, and **returns** the remainder when the first number is divided by the second. Make sure that your function doesn't just *print* the value, it should *return* the value. Also, you should use `def` to start your function and define the function name.\n",
    "\n",
    "If you need a reminder about how to define functions, check here: https://docs.python.org/3/tutorial/controlflow.html#defining-functions\n",
    "\n",
    "__Hint__: Something you learned in the preclass might help you when it comes to calculating the remainder."
   ]
  },
  {
   "cell_type": "code",
   "execution_count": 15,
   "metadata": {},
   "outputs": [],
   "source": [
    "#Put your code here\n",
    "def find_remainder(int1, int2):\n",
    "    remainder = int1 % int2\n",
    "    print(remainder)"
   ]
  },
  {
   "cell_type": "markdown",
   "metadata": {},
   "source": [
    "Now test your function using numbers that you can check. "
   ]
  },
  {
   "cell_type": "code",
   "execution_count": 16,
   "metadata": {},
   "outputs": [
    {
     "name": "stdout",
     "output_type": "stream",
     "text": [
      "1\n"
     ]
    }
   ],
   "source": [
    "#Put your code here\n",
    "find_remainder(1,2)"
   ]
  },
  {
   "cell_type": "markdown",
   "metadata": {},
   "source": [
    "### Part 4.2: Comparing numbers\n",
    "\n",
    "For this part, you're going to take the code your wrote earlier for comparing three numbers and you're going to turn it into a function called `compare`.\n",
    "\n",
    "&#9989;&nbsp; **Write your `compare` function**. It should:\n",
    "\n",
    "1. Take three numbers as inputs.\n",
    "2. Apply the same if statement logic as above and do the following:\n",
    "    1. If v1 is equal to v2, print \"woohoo!\"\n",
    "    2. If v1 is the smallest value of the three (i.e., v1 is less than both v2 and v3), print out \"v1 is tiny!\"\n",
    "    3. If v1 *is* the smallest value, add a nested if statement to print out a statement saying whether v2 or v3 is the largest value.\n",
    "    \n",
    "Once you're created your `compare` function. Run it with the following sets of numbers and ensure that it works correctly:\n",
    "* 10, 20, 30\n",
    "* 2, 2, 5\n",
    "* 19, 17, 18"
   ]
  },
  {
   "cell_type": "code",
   "execution_count": 20,
   "metadata": {},
   "outputs": [
    {
     "name": "stdout",
     "output_type": "stream",
     "text": [
      "10 is tiny!\n",
      "30 is the largest value\n",
      "woohoo!\n",
      "17 or 18 is less than v1\n"
     ]
    }
   ],
   "source": [
    "# Put your code here\n",
    "def compare(v1,v2,v3):\n",
    "    if v1 == v2:\n",
    "        print(\"woohoo!\")\n",
    "    elif (v1 < v2) & (v1 < v3):\n",
    "        print(v1,\"is tiny!\")\n",
    "    \n",
    "        if v2 > v3:\n",
    "            print(v2,\"is the largest value\")\n",
    "        elif v3 > v2:\n",
    "            print(v3,\"is the largest value\")\n",
    "        else:\n",
    "            print(v2,\"is equal to\",v3)\n",
    "    else:\n",
    "        print(v2,\"or\", v3,\"is less than v1\")\n",
    "    \n",
    "compare(10,20,30)\n",
    "compare(2,2,5)\n",
    "compare(19,17,18)"
   ]
  },
  {
   "cell_type": "markdown",
   "metadata": {},
   "source": [
    "### Part 4.3: Finding maximum height\n",
    "\n",
    "Now you're going to take your code for finding the maximum snowball height and turn it into a function that can determine the maximum height and the time it reaches that height for **any** initial height and initial speed.\n",
    "\n",
    "&#9989;&nbsp; **Write a new function**, let's call it `find_max_height`, it should:\n",
    "\n",
    "1. Take initial height, initial speed, time step size, and a time limit as input variables. The time limit should be used to control how long your loop runs for.\n",
    "2. Compute and **return** the maximum height and the time when the snowball reaches that height.\n",
    "3. Your function **should not** print anything in it's final form (but you can use print statements to test/debug your code).\n",
    "\n",
    "Once you have a function that you think works, try running it for the same values you used before to confirm that it's behaving as intended:\n",
    "* Initial height of 1.75\n",
    "* Initial speed of 47 m/s\n",
    "* Time step size of 0.5 seconds\n",
    "* Total time span of 10 seconds\n",
    "\n",
    "You function should work so that you can just run the following command:\n",
    "\n",
    "`max_height, time_of_max = find_max_height(1.75, 47, 0.5, 10)`\n",
    "\n",
    "**Call your function and print the resulting values**. Then, test it on some new values for all of your input parameters!"
   ]
  },
  {
   "cell_type": "code",
   "execution_count": 26,
   "metadata": {},
   "outputs": [
    {
     "name": "stdout",
     "output_type": "stream",
     "text": [
      "114.24999999999999 5.0\n"
     ]
    }
   ],
   "source": [
    "# Put your code here\n",
    "def find_max_height(init_height, init_speed, time_step, time_limit):\n",
    "    t = 0\n",
    "    max_height = init_height # initial height \n",
    "    g = 9.8\n",
    "    t_max_height = 0\n",
    "\n",
    "    while t < time_limit:\n",
    "        new_height = (-0.5*g*t**2)+(init_speed*t)+1.75\n",
    "    \n",
    "        if new_height > max_height:\n",
    "            max_height = new_height\n",
    "            t_max_height = t\n",
    "        #elif new_height < max_height:\n",
    "            #print(\"At t =\",t,\", the snowball is falling\")\n",
    "        t += time_step\n",
    "        \n",
    "    return max_height, t_max_height\n",
    "\n",
    "max_height, time_of_max = find_max_height(1.75, 47, 0.5, 10)\n",
    "print(max_height, time_of_max)\n"
   ]
  },
  {
   "cell_type": "markdown",
   "metadata": {},
   "source": [
    "---\n",
    "### &#128721; STOP\n",
    "Check in with an instructor before you leave class!\n",
    "\n"
   ]
  },
  {
   "cell_type": "markdown",
   "metadata": {},
   "source": [
    "---"
   ]
  },
  {
   "cell_type": "markdown",
   "metadata": {},
   "source": [
    "## Congratulations, you're done!\n",
    "\n",
    "Submit this assignment by uploading it to the course Desire2Learn web page.  Go to the \"In-class assignments\" folder, find the appropriate submission link, and upload it there.\n",
    "\n",
    "See you next class!"
   ]
  },
  {
   "cell_type": "markdown",
   "metadata": {},
   "source": [
    "&#169; Copyright 2018,  Michigan State University Board of Trustees"
   ]
  }
 ],
 "metadata": {
  "kernelspec": {
   "display_name": "Python 3",
   "language": "python",
   "name": "python3"
  },
  "language_info": {
   "codemirror_mode": {
    "name": "ipython",
    "version": 3
   },
   "file_extension": ".py",
   "mimetype": "text/x-python",
   "name": "python",
   "nbconvert_exporter": "python",
   "pygments_lexer": "ipython3",
   "version": "3.8.3"
  }
 },
 "nbformat": 4,
 "nbformat_minor": 4
}
