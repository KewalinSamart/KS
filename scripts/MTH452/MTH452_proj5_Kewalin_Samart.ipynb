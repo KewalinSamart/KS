{
 "cells": [
  {
   "cell_type": "markdown",
   "metadata": {},
   "source": [
    "### Conduct the QR iteration for matrix A in example 1 of section 9.5 and estimate the eigenvalues."
   ]
  },
  {
   "cell_type": "code",
   "execution_count": 32,
   "metadata": {},
   "outputs": [],
   "source": [
    "import numpy as np\n",
    "import scipy.linalg as lin"
   ]
  },
  {
   "cell_type": "code",
   "execution_count": 36,
   "metadata": {},
   "outputs": [
    {
     "name": "stdout",
     "output_type": "stream",
     "text": [
      "The actaual eigenvalues of the matrix A:\n",
      "(1.585786437626906+0j)\n",
      "(2.999999999999999+0j)\n",
      "(4.414213562373095+0j)\n"
     ]
    }
   ],
   "source": [
    "A = np.array([[3, 1, 0], [1, 3, 1], [0, 1, 3]]) \n",
    "eigval, eigvec =  lin.eig(A) # calculate the actual eigenvalues\n",
    "print('The actaual eigenvalues of the matrix A:')\n",
    "for val in eigval:\n",
    "    print(val)"
   ]
  },
  {
   "cell_type": "code",
   "execution_count": 37,
   "metadata": {},
   "outputs": [
    {
     "name": "stdout",
     "output_type": "stream",
     "text": [
      "Iteration 1:\n",
      "[[ 3.60000000e+00  8.60232527e-01 -5.55111512e-17]\n",
      " [ 8.60232527e-01  3.12972973e+00 -8.97403120e-01]\n",
      " [ 0.00000000e+00 -8.97403120e-01  2.27027027e+00]]\n",
      "Iteration 5:\n",
      "[[ 4.35705755e+00  2.78749764e-01 -1.61329283e-16]\n",
      " [ 2.78749764e-01  3.05225459e+00 -8.39664040e-02]\n",
      " [ 0.00000000e+00 -8.39664040e-02  1.59068786e+00]]\n",
      "Iteration 10:\n",
      "[[4.41296468e+00 4.20074873e-02 1.47058472e-16]\n",
      " [4.20074873e-02 3.00124067e+00 3.40764046e-03]\n",
      " [0.00000000e+00 3.40764046e-03 1.58579464e+00]]\n",
      "Iteration 20:\n",
      "[[4.41421301e+00 8.83869413e-04 1.44638688e-16]\n",
      " [8.83869413e-04 3.00000055e+00 5.80094798e-06]\n",
      " [0.00000000e+00 5.80094798e-06 1.58578644e+00]]\n"
     ]
    }
   ],
   "source": [
    "# https://pythonnumericalmethods.berkeley.edu/notebooks/chapter15.03-The-QR-Method.html\n",
    "n = [1, 5, 10, 20] # list of number of iterations\n",
    "# QR method\n",
    "for i in range(22):\n",
    "    q, r = lin.qr(A)\n",
    "    A = np.dot(r, q)\n",
    "    if i+1 in n:\n",
    "        print(f'Iteration {i+1}:')\n",
    "        print(A)"
   ]
  },
  {
   "cell_type": "code",
   "execution_count": 35,
   "metadata": {},
   "outputs": [
    {
     "name": "stdout",
     "output_type": "stream",
     "text": [
      "The estimated eigenvalues of A by QR method:\n",
      "4.414213444522127\n",
      "3.000000117849117\n",
      "1.5857864376287631\n"
     ]
    }
   ],
   "source": [
    "print(\"The estimated eigenvalues of A by QR method:\")\n",
    "print(str(A[0][0]))\n",
    "print(str(A[1][1]))\n",
    "print(str(A[2][2]))"
   ]
  }
 ],
 "metadata": {
  "kernelspec": {
   "display_name": "Python 3",
   "language": "python",
   "name": "python3"
  },
  "language_info": {
   "codemirror_mode": {
    "name": "ipython",
    "version": 3
   },
   "file_extension": ".py",
   "mimetype": "text/x-python",
   "name": "python",
   "nbconvert_exporter": "python",
   "pygments_lexer": "ipython3",
   "version": "3.8.3"
  }
 },
 "nbformat": 4,
 "nbformat_minor": 4
}
