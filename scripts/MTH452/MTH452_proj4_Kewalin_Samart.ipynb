{
 "cells": [
  {
   "cell_type": "markdown",
   "metadata": {},
   "source": [
    "### Power Method"
   ]
  },
  {
   "cell_type": "code",
   "execution_count": 2,
   "metadata": {},
   "outputs": [],
   "source": [
    "import numpy as np\n",
    "from scipy import linalg as la"
   ]
  },
  {
   "cell_type": "code",
   "execution_count": 3,
   "metadata": {},
   "outputs": [],
   "source": [
    "x0 = np.array([1,0,1])\n",
    "A = np.array([[4,2,0], [2,0,-1], [0,-1,1]])\n",
    "N = 20"
   ]
  },
  {
   "cell_type": "code",
   "execution_count": 8,
   "metadata": {},
   "outputs": [],
   "source": [
    "# https://stackoverflow.com/questions/53477209/power-method-doesnt-work-for-symmetric-matrices\n",
    "def power_method(A, x0, N):\n",
    "    x = x0\n",
    "    for i in range(N):\n",
    "        y = A.dot(x) \n",
    "        x = y / np.linalg.norm(y)\n",
    "        xt = x.T\n",
    "        lamda =  xt.dot(y) \n",
    "    return [lamda,x]"
   ]
  },
  {
   "cell_type": "code",
   "execution_count": 9,
   "metadata": {},
   "outputs": [
    {
     "name": "stdout",
     "output_type": "stream",
     "text": [
      "The first eigenvalue: 13.353109080374304\n",
      "The corresponding eigenvector: [0.42663918 0.43751227 0.79155671]\n"
     ]
    }
   ],
   "source": [
    "lamda1, v1 = power_method(A,x0,100)\n",
    "print('The first eigenvalue:', lamda1)\n",
    "print('The corresponding eigenvector:',v1)"
   ]
  },
  {
   "cell_type": "code",
   "execution_count": 4,
   "metadata": {},
   "outputs": [],
   "source": [
    "# compare the results above with the expected values\n",
    "evals, evecs = la.eig(A)"
   ]
  },
  {
   "cell_type": "code",
   "execution_count": 5,
   "metadata": {},
   "outputs": [
    {
     "data": {
      "text/plain": [
       "array([ 4.86781598+0.j, -1.21758071+0.j,  1.34976473+0.j])"
      ]
     },
     "execution_count": 5,
     "metadata": {},
     "output_type": "execute_result"
    }
   ],
   "source": [
    "evals"
   ]
  },
  {
   "cell_type": "code",
   "execution_count": 6,
   "metadata": {},
   "outputs": [
    {
     "data": {
      "text/plain": [
       "array([[-0.91254344,  0.32987433,  0.24175895],\n",
       "       [-0.39595989, -0.86057298, -0.32035904],\n",
       "       [ 0.10237299, -0.38806839,  0.91592723]])"
      ]
     },
     "execution_count": 6,
     "metadata": {},
     "output_type": "execute_result"
    }
   ],
   "source": [
    "evecs"
   ]
  },
  {
   "cell_type": "code",
   "execution_count": null,
   "metadata": {},
   "outputs": [],
   "source": []
  }
 ],
 "metadata": {
  "kernelspec": {
   "display_name": "Python 3",
   "language": "python",
   "name": "python3"
  },
  "language_info": {
   "codemirror_mode": {
    "name": "ipython",
    "version": 3
   },
   "file_extension": ".py",
   "mimetype": "text/x-python",
   "name": "python",
   "nbconvert_exporter": "python",
   "pygments_lexer": "ipython3",
   "version": "3.8.3"
  }
 },
 "nbformat": 4,
 "nbformat_minor": 4
}
