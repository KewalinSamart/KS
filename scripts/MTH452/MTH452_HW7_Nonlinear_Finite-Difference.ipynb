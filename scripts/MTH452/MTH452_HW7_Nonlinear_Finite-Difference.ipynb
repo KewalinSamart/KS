{
 "cells": [
  {
   "cell_type": "markdown",
   "metadata": {},
   "source": [
    "$y'' = f(x,y,y')$ for $a <= x <= b$, with $y(a) = \\alpha$ and $y(b) = \\beta$\n",
    "- a,b : endpoints\n",
    "- $\\alpha, \\beta$ : boundary conditions\n",
    "- h = 0.25\n",
    "- $h = \\frac {(b-a)}{N+1}$"
   ]
  },
  {
   "cell_type": "markdown",
   "metadata": {},
   "source": [
    "Given $y'' = 2y^{3}, -1 <= x <= 0, y(-1) = \\frac{1}{2}, y(0) = \\frac{1}{3}$"
   ]
  },
  {
   "cell_type": "code",
   "execution_count": 60,
   "metadata": {},
   "outputs": [
    {
     "name": "stdout",
     "output_type": "stream",
     "text": [
      "N: 5.0\n",
      "alpha: 0.5\n",
      "beta: 0.3333333333333333\n"
     ]
    }
   ],
   "source": [
    "# Define variables based on the given info\n",
    "a = -1\n",
    "b = 0\n",
    "N = (b-a)/0.25 + 1\n",
    "alpha = 1/2\n",
    "beta = 1/3\n",
    "print('N:',N)\n",
    "print('alpha:',alpha)\n",
    "print('beta:',beta)"
   ]
  },
  {
   "cell_type": "code",
   "execution_count": 61,
   "metadata": {},
   "outputs": [],
   "source": [
    "import numpy as np\n",
    "# define f: y'' = 2y^3\n",
    "def f(y):\n",
    "    f = 2*y**3\n",
    "    return f\n",
    "\n",
    "# partial derivative of f respect to y\n",
    "def fy(y):\n",
    "    fy = 6*y**2\n",
    "    return fy\n",
    "\n",
    "# partial derivative of f respect to y'\n",
    "def fy_p(y):\n",
    "    fyp = 0\n",
    "    return fyp"
   ]
  },
  {
   "cell_type": "code",
   "execution_count": 62,
   "metadata": {},
   "outputs": [],
   "source": [
    "# Nonlinear Finite-Difference Algorithm\n",
    "M = 20 # maximum number of iterations\n",
    "TOL = 0.01\n",
    "# Set h, w0, w_Npone (w_N+1)\n",
    "h = 0.25\n",
    "w0 = alpha\n",
    "w_Npone = beta\n",
    "w = [w0]\n",
    "N = int(N)\n",
    "for i in range(1,N+1): # (i: 1,2,..,N)\n",
    "    wi = alpha + i*((beta-alpha)/(b-a))*h\n",
    "    w.append(wi)\n",
    "k = 1\n",
    "while k <= M:\n",
    "    x = a + h\n",
    "    t = (w[2] - alpha)/(2*h)\n",
    "    a1 = 2 + h**2*fy(w[1])\n",
    "    b1 = -1 + (h/2)*fy(w[1])\n",
    "    d1 = -(2*w[1] - w[2] - alpha + (h**2)*f(w[1]))\n",
    "    \n",
    "    a_list = [a, a1]\n",
    "    b_list = [b, b1]\n",
    "    c_list = [None, None]\n",
    "    d_list = [None, d1]\n",
    "    \n",
    "    for i in range(1,N): # (i: 1,2,..,N-1)\n",
    "        x = a + i*h\n",
    "        t = (w[i+1] - w[i-1])/(2*h)\n",
    "        ai = 2 + h**2*fy(w[i])\n",
    "        bi = -1 + (h/2)*fy_p(w[i])\n",
    "        ci = -1 - (h/2)*fy_p(w[i])\n",
    "        di = -(2*w[i] - w[i+1] - w[i-1] + (h**2)*f(w[i]))\n",
    "        \n",
    "        a_list.append(ai)\n",
    "        b_list.append(bi)\n",
    "        c_list.append(ci)\n",
    "        d_list.append(di)\n",
    "        \n",
    "    x = b-h\n",
    "    t = (beta - w[N-1])/(2*h)\n",
    "    aN = 2 + h**2*fy(w[N])\n",
    "    cN = -1 -(h/2)*fy_p(w[N])\n",
    "    dN = -(2*w[N] - w[N-1] - beta + (h**2)*f(w[N]))\n",
    "    \n",
    "    l1 = a1\n",
    "    u1 = b1/a1\n",
    "    z1 = d1/l1\n",
    "    \n",
    "    l_list = [None, l1]\n",
    "    u_list = [None, u1]\n",
    "    z_list = [None, z1]\n",
    "    \n",
    "    for i in range(2,N): # i = 2,3,..,N+1\n",
    "        li = a_list[i] - c_list[i]*u_list[i-1]\n",
    "        l_list.append(li)\n",
    "        \n",
    "        ui = b_list[i]/l_list[i]\n",
    "        u_list.append(ui)\n",
    "        \n",
    "        zi = (d_list[i] - c_list[i]*z_list[i-1])/l_list[i]\n",
    "        z_list.append(zi)\n",
    "        \n",
    "    lN = a_list[N] - c_list[N]*u_list[N-1]\n",
    "    zN = (d_list[N] - c_list[N]*z_list[N-1])/lN\n",
    "    \n",
    "    l_list.append(lN)\n",
    "    z_list.append(zN)\n",
    "    \n",
    "    vN = zN\n",
    "    wN = w[N] + vN\n",
    "    \n",
    "    w_out = [wN]\n",
    "    \n",
    "    v3 = z_list[3] - u_list[3]*vN\n",
    "    w3 = w[3] + v3\n",
    "    w_out.append(w3)\n",
    "    \n",
    "    v2 = z_list[2] - u_list[2]*v3\n",
    "    w2 = w[2] + v2\n",
    "    w_out.append(w2)\n",
    "    \n",
    "    v1 = z_list[1] - u_list[1]*v2\n",
    "    w1 = w[1] + v1\n",
    "    w_out.append(w1)\n",
    "    w_out.append(w0)\n",
    "       \n",
    "    k += 1"
   ]
  },
  {
   "cell_type": "code",
   "execution_count": 63,
   "metadata": {},
   "outputs": [
    {
     "name": "stdout",
     "output_type": "stream",
     "text": [
      "Comparing the results from the algorithm with the actual result y = 1/(x+3)\n",
      "wi: [0.5, 0.44256095086703956, 0.39203366349528734, 0.3516011142272944, 0.2770207787038445]\n",
      "f(xi): [0.5, 0.4444444444444444, 0.4, 0.36363636363636365, 0.3333333333333333]\n",
      "absolute errors: [0.         0.00188349 0.00796634 0.01203525 0.05631255]\n"
     ]
    }
   ],
   "source": [
    "w_out.reverse()\n",
    "print(\"Comparing the results from the algorithm with the actual result y = 1/(x+3)\")\n",
    "print('wi:',w_out)\n",
    "x = np.arange(-1,0.25,0.25)\n",
    "y = 1/(x+3)\n",
    "print('f(xi):',list(y))\n",
    "print('absolute errors:', abs(np.array(w_out)-y))"
   ]
  },
  {
   "cell_type": "code",
   "execution_count": null,
   "metadata": {},
   "outputs": [],
   "source": []
  }
 ],
 "metadata": {
  "kernelspec": {
   "display_name": "Python 3",
   "language": "python",
   "name": "python3"
  },
  "language_info": {
   "codemirror_mode": {
    "name": "ipython",
    "version": 3
   },
   "file_extension": ".py",
   "mimetype": "text/x-python",
   "name": "python",
   "nbconvert_exporter": "python",
   "pygments_lexer": "ipython3",
   "version": "3.8.3"
  }
 },
 "nbformat": 4,
 "nbformat_minor": 4
}
