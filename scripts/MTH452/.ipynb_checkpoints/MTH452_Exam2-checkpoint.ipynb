{
 "cells": [
  {
   "cell_type": "markdown",
   "metadata": {},
   "source": [
    "### Solving Nonlinear System Using Newton's Method"
   ]
  },
  {
   "cell_type": "code",
   "execution_count": null,
   "metadata": {},
   "outputs": [],
   "source": [
    "import numpy as np\n",
    "\n",
    "def f1(x1,x2):\n",
    "    f = None\n",
    "    return f\n",
    "\n",
    "def f2(x1,x2):\n",
    "    f_ = None\n",
    "    return f_\n",
    "\n",
    "def givenx(x1,x2):\n",
    "    return np.array([x1,x2])"
   ]
  },
  {
   "cell_type": "code",
   "execution_count": null,
   "metadata": {},
   "outputs": [],
   "source": [
    "# Given a vector x\n",
    "x1 = None\n",
    "x2 = None\n",
    "\n",
    "# First iteration\n",
    "x_init = givenx(x1,x2)\n",
    "\n",
    "# Jacob Matrix J(x)\n",
    "j11 = None\n",
    "j12 = None\n",
    "j21 = None\n",
    "j22 = None\n",
    "\n",
    "# J(x)*y = -F(x)\n",
    "J = np.matrix([[j11, j12],\n",
    "             [j21, j22]])\n",
    "\n",
    "f11 = f1(x1,x2)\n",
    "f21 = f2(x1,x2)\n",
    "\n",
    "neg_F = -1*np.matrix([[f11],[f21]])\n",
    "\n",
    "# Solving the system\n",
    "y = np.linalg.solve(J, neg_F)\n",
    "\n",
    "x_1 = x_init + y \n",
    "print(x_1)"
   ]
  },
  {
   "cell_type": "code",
   "execution_count": null,
   "metadata": {},
   "outputs": [],
   "source": [
    "# Second iteration\n",
    "x1 = x_1[0]\n",
    "x2 = x_2[0]\n",
    "\n",
    "x_1 = givenx(x1,x2)\n",
    "\n",
    "# Jacob Matrix J(x)\n",
    "j11 = None\n",
    "j12 = None\n",
    "j21 = None\n",
    "j22 = None\n",
    "\n",
    "# J(x)*y = -F(x)\n",
    "J = np.matrix([[j11, j12],\n",
    "             [j21, j22]])\n",
    "\n",
    "f11 = f1(x1,x2)\n",
    "f21 = f2(x1,x2)\n",
    "\n",
    "neg_F = -1*np.matrix([[f11],[f21]])\n",
    "\n",
    "# Solving the system\n",
    "y = np.linalg.solve(J, neg_F)\n",
    "\n",
    "x_1 = x_init + y \n",
    "print(x_1)"
   ]
  },
  {
   "cell_type": "markdown",
   "metadata": {},
   "source": [
    "### "
   ]
  }
 ],
 "metadata": {
  "kernelspec": {
   "display_name": "Python 3",
   "language": "python",
   "name": "python3"
  },
  "language_info": {
   "codemirror_mode": {
    "name": "ipython",
    "version": 3
   },
   "file_extension": ".py",
   "mimetype": "text/x-python",
   "name": "python",
   "nbconvert_exporter": "python",
   "pygments_lexer": "ipython3",
   "version": "3.8.3"
  }
 },
 "nbformat": 4,
 "nbformat_minor": 4
}
