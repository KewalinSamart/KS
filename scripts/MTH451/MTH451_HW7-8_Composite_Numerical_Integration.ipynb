{
 "cells": [
  {
   "cell_type": "markdown",
   "metadata": {},
   "source": [
    "**Problem 1.** (4 points) Write a compute program to approximate $$\\int_{0}^{2} x^2e^{-x^2} \\,dx$$ with n = 8. Use \n",
    "* (a) Composite Trapezoidal formula. \n",
    "* (b) Composite Simpson’s formula."
   ]
  },
  {
   "cell_type": "code",
   "execution_count": 11,
   "metadata": {},
   "outputs": [],
   "source": [
    "import math\n",
    "def f(x):\n",
    "    return (x**2)*math.exp(-x**2)"
   ]
  },
  {
   "cell_type": "code",
   "execution_count": 12,
   "metadata": {},
   "outputs": [],
   "source": [
    "# Composite Simpson's Formula\n",
    "def comp_simpsons(a,b,n):\n",
    "    h = (b-a)/n\n",
    "    XI0 = f(a)+f(b)\n",
    "    XI1 = 0\n",
    "    XI2 = 0\n",
    "    for i in range(1,n):\n",
    "        X = a+i*h\n",
    "        if (i%2 == 0):\n",
    "            XI2 = XI2 + f(X)\n",
    "        else:\n",
    "            XI1 = XI1 + f(X)\n",
    "    XI = h/3*(XI0+2*XI2+4*XI1)\n",
    "    return XI"
   ]
  },
  {
   "cell_type": "code",
   "execution_count": 13,
   "metadata": {},
   "outputs": [
    {
     "data": {
      "text/plain": [
       "0.4227161879339765"
      ]
     },
     "execution_count": 13,
     "metadata": {},
     "output_type": "execute_result"
    }
   ],
   "source": [
    "comp_simpsons(0,2,8)"
   ]
  },
  {
   "cell_type": "code",
   "execution_count": 14,
   "metadata": {},
   "outputs": [],
   "source": [
    "# Composite Trapezoidal Formula\n",
    "def comp_trapezoidal_f(a,b,n):\n",
    "    h = (b-a)/n\n",
    "    XJ0 = f(a)+f(b)\n",
    "    XJ1 = 0\n",
    "    for j in range(1,n):\n",
    "        X = a+j*h\n",
    "        XJ1 = XJ1 + f(X)\n",
    "    XJ = h/2*(XJ0+2*XJ1)\n",
    "    return XJ"
   ]
  },
  {
   "cell_type": "code",
   "execution_count": 15,
   "metadata": {},
   "outputs": [
    {
     "data": {
      "text/plain": [
       "0.42158203719810194"
      ]
     },
     "execution_count": 15,
     "metadata": {},
     "output_type": "execute_result"
    }
   ],
   "source": [
    "comp_trapezoidal_f(0,2,8)"
   ]
  },
  {
   "cell_type": "markdown",
   "metadata": {},
   "source": [
    "#### Checking double integral result using the composite trapizoidal rule (HW8 problem.2)"
   ]
  },
  {
   "cell_type": "code",
   "execution_count": 28,
   "metadata": {},
   "outputs": [],
   "source": [
    "def g(x):\n",
    "    return x/4*(4*x**2+(2*x)**(1/2)+x**(1/2))"
   ]
  },
  {
   "cell_type": "code",
   "execution_count": 29,
   "metadata": {},
   "outputs": [],
   "source": [
    "# Composite Trapezoidal Formula\n",
    "def comp_trapezoidal_g(a,b,n):\n",
    "    h = (b-a)/n\n",
    "    XJ0 = g(a)+g(b)\n",
    "    XJ1 = 0\n",
    "    for j in range(1,n):\n",
    "        X = a+j*h\n",
    "        XJ1 = XJ1 + g(X)\n",
    "    XJ = h/2*(XJ0+2*XJ1)\n",
    "    return XJ"
   ]
  },
  {
   "cell_type": "code",
   "execution_count": 30,
   "metadata": {},
   "outputs": [
    {
     "data": {
      "text/plain": [
       "1.460073097746844"
      ]
     },
     "execution_count": 30,
     "metadata": {},
     "output_type": "execute_result"
    }
   ],
   "source": [
    "comp_trapezoidal_g(1,1.5,2)"
   ]
  },
  {
   "cell_type": "code",
   "execution_count": null,
   "metadata": {},
   "outputs": [],
   "source": []
  }
 ],
 "metadata": {
  "kernelspec": {
   "display_name": "Python 3",
   "language": "python",
   "name": "python3"
  },
  "language_info": {
   "codemirror_mode": {
    "name": "ipython",
    "version": 3
   },
   "file_extension": ".py",
   "mimetype": "text/x-python",
   "name": "python",
   "nbconvert_exporter": "python",
   "pygments_lexer": "ipython3",
   "version": "3.8.3"
  }
 },
 "nbformat": 4,
 "nbformat_minor": 4
}
