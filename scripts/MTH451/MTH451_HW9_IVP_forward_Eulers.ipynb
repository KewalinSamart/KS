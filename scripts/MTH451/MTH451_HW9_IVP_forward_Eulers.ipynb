{
 "cells": [
  {
   "cell_type": "markdown",
   "metadata": {},
   "source": [
    "Consider the $IVP$ $$y′ =−y^{2},y(0)=1,0≤t≤1.$$\n",
    "* (a) Find the exact solution to this $IVP.$\n",
    "* (b) Compute by using a code of forward Euler’s method with step size $h = 0.1, 0.05, 0.025, 0.0125.$ Present the results in a table with the following information. \n",
    "    - column 1: $h$\n",
    "    - column 2: $w_{N}$ : numerical solution at $t = 1$\n",
    "    - column 3: error $|y(1) − w_{N}|$\n",
    "    - column 4: $|y(1) − w_{N} |/h$"
   ]
  },
  {
   "cell_type": "code",
   "execution_count": 3,
   "metadata": {},
   "outputs": [],
   "source": [
    "def f(t,y):\n",
    "    f = -y**2\n",
    "    return f"
   ]
  },
  {
   "cell_type": "code",
   "execution_count": 4,
   "metadata": {},
   "outputs": [],
   "source": [
    "def exact_IVP(t):\n",
    "    y = 1/(t+1)\n",
    "    return y"
   ]
  },
  {
   "cell_type": "code",
   "execution_count": 5,
   "metadata": {},
   "outputs": [],
   "source": [
    "def Eulers_method_forward(a,b,init_val=1, t=1):\n",
    "    print('h','| w_N at t=1','| error', '| error/h')\n",
    "    for h in [0.1,0.05,0.025,0.0125]:\n",
    "        w_prev = init_val\n",
    "        t = a\n",
    "        N = int((b-a)/h)\n",
    "        for i in range(1,N+1):\n",
    "            w_new = w_prev + h*f(t,w_prev)\n",
    "            w_prev = w_new\n",
    "            t = a + i*h\n",
    "        print(h,w_new,abs(exact_IVP(1)-w_new),abs(exact_IVP(1)-w_new)/h)"
   ]
  },
  {
   "cell_type": "code",
   "execution_count": 6,
   "metadata": {},
   "outputs": [
    {
     "name": "stdout",
     "output_type": "stream",
     "text": [
      "h | w_N at t=1 | error | error/h\n",
      "0.1 0.48171287847015176 0.018287121529848238 0.18287121529848238\n",
      "0.05 0.49110492366559216 0.008895076334407837 0.17790152668815673\n",
      "0.025 0.4956111726197864 0.004388827380213622 0.1755530952085449\n",
      "0.0125 0.49781987441161446 0.0021801255883855397 0.17441004707084318\n"
     ]
    }
   ],
   "source": [
    "Eulers_method_forward(0,1)"
   ]
  },
  {
   "cell_type": "code",
   "execution_count": null,
   "metadata": {},
   "outputs": [],
   "source": []
  }
 ],
 "metadata": {
  "kernelspec": {
   "display_name": "Python 3",
   "language": "python",
   "name": "python3"
  },
  "language_info": {
   "codemirror_mode": {
    "name": "ipython",
    "version": 3
   },
   "file_extension": ".py",
   "mimetype": "text/x-python",
   "name": "python",
   "nbconvert_exporter": "python",
   "pygments_lexer": "ipython3",
   "version": "3.8.3"
  }
 },
 "nbformat": 4,
 "nbformat_minor": 4
}
