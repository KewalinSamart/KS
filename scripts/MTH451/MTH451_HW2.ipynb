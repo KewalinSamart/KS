{
 "cells": [
  {
   "cell_type": "markdown",
   "metadata": {},
   "source": [
    "#### Relative Error / Digit Chopping"
   ]
  },
  {
   "cell_type": "code",
   "execution_count": 4,
   "metadata": {},
   "outputs": [
    {
     "name": "stdout",
     "output_type": "stream",
     "text": [
      "the actual sum: 1.5497677311665408\n",
      "the relative error with respect to sum_1: 0.012755286336786206\n",
      "the relative error with respect to sum_2: 0.006302706508922058\n"
     ]
    }
   ],
   "source": [
    "# finding the actual sum \n",
    "sum = 0\n",
    "for i in range(1,11):\n",
    "    x = 1/(i**2)\n",
    "    sum += x\n",
    "print(\"the actual sum:\", sum)\n",
    "\n",
    "# using 3 digits chopping to calculate 1/1^2+1/2^2+...+1/10^2\n",
    "# ****try to compute this by code if time****\n",
    "sum_1 = 1.53\n",
    "# backward: 1/10^2+1/9^2+...+1/1^2\n",
    "sum_2 = 1.54\n",
    "\n",
    "print(\"the relative error with respect to sum_1:\", abs(sum-sum_1)/abs(sum))\n",
    "print(\"the relative error with respect to sum_2:\", abs(sum-sum_2)/abs(sum))"
   ]
  },
  {
   "cell_type": "markdown",
   "metadata": {},
   "source": [
    "#### Using Bisection Method to find solution of x^2 - m = 0\n",
    "\n",
    "* [a,b] should be chosen as [s,s+1]; s^2 < m < (s+1)^2\n",
    "* Find the approximation with 7 iteration steps (i.e., p1,p2,...,p7) where m = 7, 13\n"
   ]
  },
  {
   "cell_type": "code",
   "execution_count": 10,
   "metadata": {},
   "outputs": [
    {
     "name": "stdout",
     "output_type": "stream",
     "text": [
      "For m = 7, list of p1-p7: [2.5, 2.75, 2.625, 2.6875, 2.65625, 2.640625, 2.6484375]\n",
      "For m = 13, list of p1-p7: [3.5, 3.75, 3.625, 3.5625, 3.59375, 3.609375, 3.6015625]\n"
     ]
    }
   ],
   "source": [
    "def find_a_b(m): # figures out the starting interval [a,b] corresponding to the value of m\n",
    "    a = 0\n",
    "    b = 0\n",
    "    for i in range(m):\n",
    "        if (i**2 < m) and (m < (i+1)**2):\n",
    "            a = i\n",
    "            b = i+1\n",
    "    return a,b\n",
    "\n",
    "def f(x,m): # define function f \n",
    "    f = x**2 - m\n",
    "    return f\n",
    "\n",
    "# perform bisection method to find the root of function f\n",
    "# return a list containing p1,p2,...,pn where n is the number of iterations that we want\n",
    "\n",
    "def bisection_method(a,b,m,iteration,tolerance): \n",
    "    i = 1\n",
    "    p_list = list()\n",
    "    while i <= iteration:\n",
    "        p = (a + b)/2\n",
    "        f_p = f(p,m)\n",
    "        f_a = f(a,m)\n",
    "        f_b = f(b,m)\n",
    "        \n",
    "        p_list.append(p)\n",
    "        \n",
    "        if (f_p == 0) or ((a-b)/2 == tolerance):\n",
    "            return p_list\n",
    "        \n",
    "        elif f_p * f_a > 0:\n",
    "            a = p\n",
    "        else:\n",
    "            b = p\n",
    "        i += 1\n",
    "    return p_list\n",
    "\n",
    "# m = 7\n",
    "a,b = find_a_b(7) # a = 2, b = 3\n",
    "print(\"For m = 7, list of p1-p7:\", bisection_method(a,b,7,7,0)) \n",
    "\n",
    "# m = 13\n",
    "a,b = find_a_b(13) # a = 3, b = 4\n",
    "print(\"For m = 13, list of p1-p7:\", bisection_method(a,b,13,7,0)) "
   ]
  },
  {
   "cell_type": "code",
   "execution_count": null,
   "metadata": {},
   "outputs": [],
   "source": []
  }
 ],
 "metadata": {
  "kernelspec": {
   "display_name": "Python 3",
   "language": "python",
   "name": "python3"
  },
  "language_info": {
   "codemirror_mode": {
    "name": "ipython",
    "version": 3
   },
   "file_extension": ".py",
   "mimetype": "text/x-python",
   "name": "python",
   "nbconvert_exporter": "python",
   "pygments_lexer": "ipython3",
   "version": "3.8.3"
  }
 },
 "nbformat": 4,
 "nbformat_minor": 4
}
