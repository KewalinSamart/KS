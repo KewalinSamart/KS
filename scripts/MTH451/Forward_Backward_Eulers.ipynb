{
 "cells": [
  {
   "cell_type": "code",
   "execution_count": 1,
   "metadata": {},
   "outputs": [],
   "source": [
    "import math\n",
    "import numpy as np"
   ]
  },
  {
   "cell_type": "code",
   "execution_count": 2,
   "metadata": {},
   "outputs": [],
   "source": [
    "def f(y,t):\n",
    "    f = -20*(y-t**2)+2*t\n",
    "    return f"
   ]
  },
  {
   "cell_type": "code",
   "execution_count": 3,
   "metadata": {},
   "outputs": [],
   "source": [
    "def exact_IVP(t):\n",
    "    y = t**2+1/3*math.exp(-20*t)\n",
    "    return y"
   ]
  },
  {
   "cell_type": "code",
   "execution_count": 4,
   "metadata": {},
   "outputs": [],
   "source": [
    "def Eulers_method_forward(a,b,init_val=1/3,h=0.1):\n",
    "    print('h','| w_N at t=1','| error', '| error/h')\n",
    "    w_prev = init_val\n",
    "    t = a\n",
    "    N = int((b-a)/h)\n",
    "    for i in range(1,N+1):\n",
    "        w_new = w_prev + h*f(w_prev,t)\n",
    "        w_prev = w_new\n",
    "        t = a + i*h\n",
    "        print(h,w_new,abs(exact_IVP(1)-w_new),abs(exact_IVP(1)-w_new)/h)"
   ]
  },
  {
   "cell_type": "code",
   "execution_count": 5,
   "metadata": {},
   "outputs": [
    {
     "name": "stdout",
     "output_type": "stream",
     "text": [
      "h | w_N at t=1 | error | error/h\n",
      "0.1 -0.3333333333333333 1.3333333340203846 13.333333340203845\n",
      "0.1 0.37333333333333335 0.626666667353718 6.26666667353718\n",
      "0.1 -0.25333333333333347 1.2533333340203847 12.533333340203846\n",
      "0.1 0.49333333333333357 0.5066666673537177 5.066666673537177\n",
      "0.1 -0.09333333333333355 1.0933333340203848 10.933333340203847\n",
      "0.1 0.6933333333333336 0.3066666673537177 3.0666666735371773\n",
      "0.1 0.1466666666666666 0.8533333340203847 8.533333340203846\n",
      "0.1 0.9733333333333336 0.0266666673537177 0.266666673537177\n",
      "0.1 0.46666666666666656 0.5333333340203847 5.333333340203847\n",
      "0.1 1.3333333333333335 0.3333333326462822 3.3333333264628218\n"
     ]
    }
   ],
   "source": [
    "Eulers_method_forward(0,1)"
   ]
  },
  {
   "cell_type": "code",
   "execution_count": 6,
   "metadata": {},
   "outputs": [
    {
     "data": {
      "text/plain": [
       "1.0000000006870513"
      ]
     },
     "execution_count": 6,
     "metadata": {},
     "output_type": "execute_result"
    }
   ],
   "source": [
    "exact_IVP(1)"
   ]
  },
  {
   "cell_type": "code",
   "execution_count": 7,
   "metadata": {},
   "outputs": [],
   "source": [
    "def func(w_new, w_prev, t_new, h):\n",
    "    \"\"\" The function f we want the root of.\"\"\"\n",
    "    return w_new - w_prev - h*f(t_new, w_new)\n",
    "\n",
    "def dfuncdx(w_new, h):\n",
    "    \"\"\" The derivative of f with respect to w_new.\"\"\"\n",
    "    return 1+20*h\n",
    "\n",
    "def newton(w_prev, t_new, h, precision=1e-12):\n",
    "    \"\"\" Takes values w_prev and t_new, and finds the root of the\n",
    "    function f(w_new), returning w_new. \"\"\"\n",
    "    \n",
    "    # initial guess:\n",
    "    w_new = w_prev\n",
    "    f = func(w_new, w_prev, t_new, h)\n",
    "    dfdx = dfuncdx(w_new, h)\n",
    "    \n",
    "    while ((abs(f/dfdx) > precision) or (f !=0)):\n",
    "        w_new = w_new - f/dfdx\n",
    "        f = func(w_new, w_prev, t_new, h)\n",
    "        dfdx = dfuncdx(w_new, h)\n",
    "        \n",
    "    return w_new"
   ]
  },
  {
   "cell_type": "code",
   "execution_count": null,
   "metadata": {},
   "outputs": [],
   "source": [
    "h = 0.1  # step size\n",
    "t_max = 1  # maximum time\n",
    "N = int(t_max/h)\n",
    "\n",
    "t = np.linspace(0, t_max, N+1)\n",
    "x = np.zeros(N+1)\n",
    "\n",
    "# set initial value\n",
    "x[0] = 0\n",
    "\n",
    "for n in range(N):\n",
    "    x[n+1] = newton(x[n], t[n+1], h)"
   ]
  },
  {
   "cell_type": "code",
   "execution_count": null,
   "metadata": {},
   "outputs": [],
   "source": [
    "x"
   ]
  },
  {
   "cell_type": "code",
   "execution_count": null,
   "metadata": {},
   "outputs": [],
   "source": []
  }
 ],
 "metadata": {
  "kernelspec": {
   "display_name": "Python 3",
   "language": "python",
   "name": "python3"
  },
  "language_info": {
   "codemirror_mode": {
    "name": "ipython",
    "version": 3
   },
   "file_extension": ".py",
   "mimetype": "text/x-python",
   "name": "python",
   "nbconvert_exporter": "python",
   "pygments_lexer": "ipython3",
   "version": "3.8.3"
  }
 },
 "nbformat": 4,
 "nbformat_minor": 4
}
