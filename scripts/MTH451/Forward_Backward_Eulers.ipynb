{
 "cells": [
  {
   "cell_type": "code",
   "execution_count": 14,
   "metadata": {},
   "outputs": [],
   "source": [
    "import math\n",
    "import numpy as np"
   ]
  },
  {
   "cell_type": "code",
   "execution_count": 15,
   "metadata": {},
   "outputs": [],
   "source": [
    "def f(t,y):\n",
    "    f = -20*(y-t**2)+2*t\n",
    "    return f"
   ]
  },
  {
   "cell_type": "code",
   "execution_count": 16,
   "metadata": {},
   "outputs": [],
   "source": [
    "def exact_IVP(t):\n",
    "    y = t**2+1/3*math.exp(-20*t)\n",
    "    return y"
   ]
  },
  {
   "cell_type": "code",
   "execution_count": 17,
   "metadata": {},
   "outputs": [],
   "source": [
    "def Eulers_method_forward(a,b,init_val=1/3,h=0.1):\n",
    "    print('h','| w_N at t=1','| error', '| error/h')\n",
    "    w_prev = init_val\n",
    "    t = a\n",
    "    N = int((b-a)/h)\n",
    "    for i in range(1,N+1):\n",
    "        w_new = w_prev + h*f(t,w_prev)\n",
    "        w_prev = w_new\n",
    "        t = a + i*h\n",
    "    print(h,w_new,abs(exact_IVP(1)-w_new),abs(exact_IVP(1)-w_new)/h)"
   ]
  },
  {
   "cell_type": "code",
   "execution_count": 18,
   "metadata": {},
   "outputs": [
    {
     "name": "stdout",
     "output_type": "stream",
     "text": [
      "h | w_N at t=1 | error | error/h\n",
      "0.1 1.3333333333333335 0.3333333326462822 3.3333333264628218\n"
     ]
    }
   ],
   "source": [
    "Eulers_method_forward(0,1)"
   ]
  },
  {
   "cell_type": "code",
   "execution_count": 19,
   "metadata": {},
   "outputs": [],
   "source": [
    "def func(x_new, x_old, t_new, dt):\n",
    "    \"\"\" The function f(x) we want the root of.\"\"\"\n",
    "    return x_new - x_old - dt*(np.cos(x_new) + np.sin(t_new))\n",
    "\n",
    "def dfuncdx(x_new, dt):\n",
    "    \"\"\" The derivative of f(x) with respect to x_new.\"\"\"\n",
    "    return 1+dt*np.sin(x_new)\n",
    "\n",
    "def newton(x_old, t_new, dt, precision=1e-12):\n",
    "    \"\"\" Takes values x_old and t_new, and finds the root of the\n",
    "    function f(x_new), returning x_new. \"\"\"\n",
    "    \n",
    "    # initial guess:\n",
    "    x_new = x_old\n",
    "    f = func(x_new, x_old, t_new, dt)\n",
    "    dfdx = dfuncdx(x_new, dt)\n",
    "    \n",
    "    while abs(f/dfdx) > precision:\n",
    "        x_new = x_new - f/dfdx\n",
    "        f = func(x_new, x_old, t_new, dt)\n",
    "        dfdx = dfuncdx(x_new, dt)\n",
    "        \n",
    "    return x_new"
   ]
  },
  {
   "cell_type": "code",
   "execution_count": 20,
   "metadata": {},
   "outputs": [],
   "source": [
    "dt = 0.001  # step size\n",
    "t_max = 10  # maximum time\n",
    "N = int(t_max/dt)\n",
    "\n",
    "t = np.linspace(0, t_max, N+1)\n",
    "x = np.zeros(N+1)\n",
    "\n",
    "# set initial value\n",
    "x[0] = 0\n",
    "\n",
    "for n in range(N):\n",
    "    x[n+1] = newton(x[n], t[n+1], dt)"
   ]
  },
  {
   "cell_type": "code",
   "execution_count": null,
   "metadata": {},
   "outputs": [],
   "source": []
  }
 ],
 "metadata": {
  "kernelspec": {
   "display_name": "Python 3",
   "language": "python",
   "name": "python3"
  },
  "language_info": {
   "codemirror_mode": {
    "name": "ipython",
    "version": 3
   },
   "file_extension": ".py",
   "mimetype": "text/x-python",
   "name": "python",
   "nbconvert_exporter": "python",
   "pygments_lexer": "ipython3",
   "version": "3.8.3"
  }
 },
 "nbformat": 4,
 "nbformat_minor": 4
}
