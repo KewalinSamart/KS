{
 "cells": [
  {
   "cell_type": "markdown",
   "metadata": {},
   "source": [
    "#### Relative Error / Digit Chopping"
   ]
  },
  {
   "cell_type": "code",
   "execution_count": 4,
   "metadata": {},
   "outputs": [
    {
     "name": "stdout",
     "output_type": "stream",
     "text": [
      "the actual sum: 1.5497677311665408\n",
      "the relative error with respect to sum_1: 0.012755286336786206\n",
      "the relative error with respect to sum_2: 0.006302706508922058\n"
     ]
    }
   ],
   "source": [
    "# finding the actual sum \n",
    "sum = 0\n",
    "for i in range(1,11):\n",
    "    x = 1/(i**2)\n",
    "    sum += x\n",
    "print(\"the actual sum:\", sum)\n",
    "\n",
    "# using 3 digits chopping to calculate 1/1^2+1/2^2+...+1/10^2\n",
    "# ****try to compute this by code if time****\n",
    "sum_1 = 1.53\n",
    "# backward: 1/10^2+1/9^2+...+1/1^2\n",
    "sum_2 = 1.54\n",
    "\n",
    "print(\"the relative error with respect to sum_1:\", abs(sum-sum_1)/abs(sum))\n",
    "print(\"the relative error with respect to sum_2:\", abs(sum-sum_2)/abs(sum))"
   ]
  },
  {
   "cell_type": "markdown",
   "metadata": {},
   "source": [
    "#### Using Bisection Method to find solution of x^2 - m = 0\n",
    "\n",
    "* [a,b] should be chosen as [s,s+1]; s^2 < m < (s+1)^2\n",
    "* Find the approximation with 7 iteration steps (i.e., p1,p2,...,p7) where m = 7, 13\n"
   ]
  },
  {
   "cell_type": "code",
   "execution_count": 25,
   "metadata": {},
   "outputs": [
    {
     "name": "stdout",
     "output_type": "stream",
     "text": [
      "For m = 7\n",
      "p1  = 2.5\n",
      "p2  = 2.75\n",
      "p3  = 2.625\n",
      "p4  = 2.6875\n",
      "p5  = 2.65625\n",
      "p6  = 2.640625\n",
      "p7  = 2.6484375\n",
      "For m = 13\n",
      "p1  = 3.5\n",
      "p2  = 3.75\n",
      "p3  = 3.625\n",
      "p4  = 3.5625\n",
      "p5  = 3.59375\n",
      "p6  = 3.609375\n",
      "p7  = 3.6015625\n"
     ]
    }
   ],
   "source": [
    "def f(x,m):\n",
    "    f = x**2 - m\n",
    "    return f\n",
    "\n",
    "def bisection_method(a,b,m):\n",
    "    i = 1\n",
    "    while i < 8:\n",
    "        p = (a + b)/2\n",
    "        f_p = f(p,m)\n",
    "        f_a = f(a,m)\n",
    "        f_b = f(b,m)\n",
    "    \n",
    "        if f_p * f_a > 0:\n",
    "            a = p\n",
    "        else:\n",
    "            b = p\n",
    "        if i == 1:\n",
    "            print(\"For m =\", m)\n",
    "        print(\"p\"+str(i), \" =\", p)\n",
    "        i += 1\n",
    "\n",
    "bisection_method(2,3,7)  # a = 2, b = 3, m =7\n",
    "bisection_method(3,4,13) # a = 3, b = 4, m = 13"
   ]
  },
  {
   "cell_type": "code",
   "execution_count": null,
   "metadata": {},
   "outputs": [],
   "source": []
  },
  {
   "cell_type": "code",
   "execution_count": null,
   "metadata": {},
   "outputs": [],
   "source": []
  }
 ],
 "metadata": {
  "kernelspec": {
   "display_name": "Python 3",
   "language": "python",
   "name": "python3"
  },
  "language_info": {
   "codemirror_mode": {
    "name": "ipython",
    "version": 3
   },
   "file_extension": ".py",
   "mimetype": "text/x-python",
   "name": "python",
   "nbconvert_exporter": "python",
   "pygments_lexer": "ipython3",
   "version": "3.8.3"
  }
 },
 "nbformat": 4,
 "nbformat_minor": 4
}
