{
 "cells": [
  {
   "cell_type": "markdown",
   "metadata": {},
   "source": [
    "#### Fixed-point Iteration\n",
    "Problem 2:\n",
    "Write a program to solve for g(x) = cos(x) by ﬁxed point iteration on the interval [0,1]. Use the initial guess p_0 = 1. Please output the number of iterations n and the approximation p n to ﬁxed point. (taking tolerance small epsilon = 10^−6 )."
   ]
  },
  {
   "cell_type": "code",
   "execution_count": 57,
   "metadata": {},
   "outputs": [
    {
     "name": "stdout",
     "output_type": "stream",
     "text": [
      "The approximation p_n to fixed point is: 0.7390855263619245\n",
      "The number of iterations is: 34\n"
     ]
    }
   ],
   "source": [
    "import math\n",
    "import numpy as np\n",
    "\n",
    "# define function g \n",
    "# calculate value of g for a given x\n",
    "def g(x):\n",
    "    g = math.cos(x)\n",
    "    return g\n",
    "\n",
    "# define value of the first derivative of g for a given x \n",
    "def diff_g(x):\n",
    "    diff_g = -math.sin(x)\n",
    "    return diff_g\n",
    "\n",
    "# find k; the maximum of absolute values of diff_g at the endpoints\n",
    "def find_k(left_val,right_val):\n",
    "    k = max(abs(diff_g(left_val)), abs(diff_g(right_val)))\n",
    "    return k \n",
    "\n",
    "# find the maximum number of iterations\n",
    "def max_iteration_num(p_0, TOL, left_val, right_val):\n",
    "    k = find_k(left_val,right_val)\n",
    "    it_num = np.log(TOL / max(p_0-left_val,right_val-p_0)) / np.log(k)\n",
    "    return math.ceil(it_num)\n",
    "\n",
    "# approximate number of iterations to the fixed-point\n",
    "def num_iteration_approx(p_0, TOL, N_0):\n",
    "    it_count = 1\n",
    "    while it_count <= N_0:\n",
    "        p = g(p_0)\n",
    "        if abs(p-p_0) < TOL:\n",
    "            return p, it_count\n",
    "        it_count += 1\n",
    "        p_0 = p\n",
    "    print(\"The method failed after N_0 iterations; The procedure was unsuccessful.\")\n",
    "    \n",
    "p_0 = 1\n",
    "TOL = 10**(-6)\n",
    "left_val = 0\n",
    "right_val = 1\n",
    "\n",
    "N_0 = max_iteration_num(p_0, TOL, left_val, right_val)\n",
    "fixed_point, num_iteration = num_iteration_approx(p_0, TOL, N_0)\n",
    "print(\"The approximation p_n to fixed point is:\", fixed_point)\n",
    "print(\"The number of iterations is:\",num_iteration)"
   ]
  },
  {
   "cell_type": "markdown",
   "metadata": {},
   "source": [
    "#### Newton's Method *vs* Secant Method\n",
    "Problem 3: f(x) = 230x^4 + 18x^3 + 9x^2 − 221x − 9 has two real zeros, one in [−1, 0] and the other in [0, 1]. Write computer programs to approximate these zeros to within 10^−6 using\n",
    "\n",
    "1. Newton’s method (use midpoints of each interval as initial approximation)\n",
    "\n",
    "2. Secant method (use endpoints of each interval as initial approximation)"
   ]
  },
  {
   "cell_type": "code",
   "execution_count": 8,
   "metadata": {},
   "outputs": [
    {
     "name": "stdout",
     "output_type": "stream",
     "text": [
      "The approximate zero in the interval [-1,0] within 10^-6 by\n",
      "Newtons method is: -0.04065928831575899\n",
      "Secant method is: -0.040659288315725135\n",
      "---------------------------------------------------------------------------------------\n",
      "The approximate zero in the interval [0,1] within 10^-6 by\n",
      "Newtons method is: -0.040659288315758865\n",
      "Secant method is: -0.04065928831557162\n"
     ]
    }
   ],
   "source": [
    "def f(x):\n",
    "    f = 230*(x**4)+18*(x**3)+9*(x**2)-221*x-9\n",
    "    return f\n",
    "\n",
    "def f_diff(x):\n",
    "    f_diff = (230*4)*(x**3)+(18*3)*(x**2)+18*x-221\n",
    "    return f_diff\n",
    "\n",
    "def newtons_method(p_0,TOL):\n",
    "    i = 1\n",
    "    while i <= 999: # set N_0 = 999\n",
    "        p = p_0 - f(p_0)/f_diff(p_0)\n",
    "        if abs(p-p_0) < TOL:\n",
    "            return p\n",
    "        i += 1\n",
    "        p_0 = p\n",
    "    print('The method failed after 999 N_0 iterations; The procedure was unsuccessful.')\n",
    "\n",
    "def secant_method(p_0,p_1,TOL):\n",
    "    i = 2\n",
    "    q_0 = f(p_0)\n",
    "    q_1 = f(p_1)\n",
    "    while i <= 999:\n",
    "        p = p_1 - q_1*(p_1-p_0)/(q_1-q_0)\n",
    "        if abs(p-p_1) < TOL:\n",
    "            return p\n",
    "        i += 1\n",
    "        p_0 = p_1\n",
    "        q_0 = q_1\n",
    "        p_1 = p\n",
    "        q_1 = f(p)\n",
    "    print('The method failed after 999 N_0 iterations; The procedure was unsuccessful.')\n",
    "\n",
    "print('The approximate zero in the interval [-1,0] within 10^-6 by')\n",
    "print('Newtons method is:',newtons_method(-0.5,10**(-6))) # p_0 = -0.5, TOL = 10^-6\n",
    "print('Secant method is:', secant_method(-1,0,10**(-6)))  # p_0 = -1, p_1 = 0, TOL = 10^-6\n",
    "print('---------------------------------------------------------------------------------------')\n",
    "print('The approximate zero in the interval [0,1] within 10^-6 by')\n",
    "print('Newtons method is:',newtons_method(0.5,10**(-6)))  # p_0 = 0.5, TOL = 10^-6\n",
    "print('Secant method is:', secant_method(0,1,10**(-6)))   # p_0 = 0, p_1 = 1, TOL = 10^-6\n"
   ]
  }
 ],
 "metadata": {
  "kernelspec": {
   "display_name": "Python 3",
   "language": "python",
   "name": "python3"
  },
  "language_info": {
   "codemirror_mode": {
    "name": "ipython",
    "version": 3
   },
   "file_extension": ".py",
   "mimetype": "text/x-python",
   "name": "python",
   "nbconvert_exporter": "python",
   "pygments_lexer": "ipython3",
   "version": "3.8.3"
  }
 },
 "nbformat": 4,
 "nbformat_minor": 4
}
