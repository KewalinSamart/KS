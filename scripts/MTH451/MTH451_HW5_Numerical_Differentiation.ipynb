{
 "cells": [
  {
   "cell_type": "code",
   "execution_count": 2,
   "metadata": {},
   "outputs": [],
   "source": [
    "import math\n",
    "def f(x):\n",
    "    x = round(x, 1)\n",
    "    if x == 2.1:\n",
    "        y = -1.709847\n",
    "    elif x == 2.2:\n",
    "        y = -1.373823\n",
    "    elif x == 2.3:\n",
    "        y = -1.119214\n",
    "    elif x == 2.4:\n",
    "        y = -0.9160143\n",
    "    elif x == 2.5:\n",
    "        y = -0.7470223\n",
    "    elif x == 2.6:\n",
    "        y = -0.6015966\n",
    "    else:\n",
    "        y = None\n",
    "    return y\n",
    "\n",
    "def actual_y(x):\n",
    "    y = (1/math.cos(x))**2\n",
    "    return round(y,7)\n",
    "\n",
    "def five_midpoint(x,h):\n",
    "    diff_x = 1/(12*h)*(f(x-2*h)-8*f(x-h)+8*f(x+h)-f(x+2*h))\n",
    "    return round(diff_x,7)\n",
    "\n",
    "def five_endpoint(x,h):\n",
    "    diff_x = 1/(12*h)*(-25*f(x)+48*f(x+h)-36*f(x+2*h)+16*f(x+3*h)-3*f(x+4*h))\n",
    "    return round(diff_x,7)\n",
    "\n",
    "def actual_error(type_,x,h):\n",
    "    if type_ == 'mid':\n",
    "        act_error = actual_y(x)-five_midpoint(x,h)\n",
    "    elif type_ == 'end':\n",
    "        act_error = actual_y(x)-five_endpoint(x,h)\n",
    "    return round(act_error,7)"
   ]
  },
  {
   "cell_type": "code",
   "execution_count": 3,
   "metadata": {},
   "outputs": [
    {
     "name": "stdout",
     "output_type": "stream",
     "text": [
      "x    | actual FD | approx FD | actual error | left-error bound | right-error bound\n",
      "-----------------------------------------------------------------------------\n",
      "2.1  | -1.709847 | 3.8993442  | 0.024231\n",
      "2.2  | -1.373823 | 2.8768757  | 0.0105141\n",
      "2.3  | -1.119214 | 2.2497041  | 0.0029351\n",
      "2.4  | -0.9160143 | 1.837756  | 0.0013262\n",
      "2.5  | -0.7470223 | 1.5442099   | 0.0138324\n",
      "2.6  | -0.6015966 | 1.3554963  | 0.0064222\n"
     ]
    }
   ],
   "source": [
    "print('x    | actual FD | approx FD | actual error | left-error bound | right-error bound')\n",
    "print('-----------------------------------------------------------------------------')\n",
    "x = 2.1\n",
    "h = 0.1\n",
    "print(x,' |', -1.709847, '|',five_endpoint(x,h), ' |',actual_error('end',x,h))\n",
    "x = 2.2\n",
    "h = 0.1\n",
    "print(x,' |', -1.373823, '|',five_endpoint(x,h), ' |',actual_error('end',x,h))\n",
    "x = 2.3\n",
    "h = 0.1 # roughly the same accuracy as h = -0.1\n",
    "print(x,' |', -1.119214, '|',five_midpoint(x,h), ' |',actual_error('mid',x,h))\n",
    "x = 2.4\n",
    "h = 0.1 # more accurate than h = -0.1\n",
    "print(x,' |', -0.9160143, '|',five_midpoint(x,h), ' |',actual_error('mid',x,h))\n",
    "x = 2.5\n",
    "h = -0.1\n",
    "print(x,' |', -0.7470223, '|',five_endpoint(x,h), '  |',actual_error('end',x,h))\n",
    "x = 2.6\n",
    "h = -0.1\n",
    "print(x,' |', -0.6015966, '|',five_endpoint(x,h), ' |',actual_error('end',x,h))"
   ]
  },
  {
   "cell_type": "code",
   "execution_count": 4,
   "metadata": {},
   "outputs": [],
   "source": [
    "def fifth_diff(x):\n",
    "    fifth_diff = 16*(((1/math.cos(x))**2) * (math.tan(x))**4) + 88*(((1/math.cos(x))**4) * (math.tan(x))**2) + 16*(1/math.cos(x))**6\n",
    "    return fifth_diff"
   ]
  },
  {
   "cell_type": "code",
   "execution_count": 5,
   "metadata": {},
   "outputs": [],
   "source": [
    "def error_bound(x, type_):\n",
    "    if type_ == 'mid':\n",
    "        error_bound = (0.1**4)/30 * fifth_diff(x)\n",
    "    elif type_ == 'end':\n",
    "        error_bound = (0.1**4)/5 * fifth_diff(x)\n",
    "    return round(error_bound,7)"
   ]
  },
  {
   "cell_type": "code",
   "execution_count": 6,
   "metadata": {},
   "outputs": [
    {
     "name": "stdout",
     "output_type": "stream",
     "text": [
      "xi | fifth derivative\n",
      "2.1 | 5463.594389198177\n",
      "2.2 | 1934.4229654928672\n",
      "2.3 | 798.8067780609497\n",
      "2.4 | 369.9809064297352\n",
      "2.5 | 187.48612459847502\n",
      "2.6 | 102.34601815315693\n"
     ]
    }
   ],
   "source": [
    "xi = 2.1\n",
    "print('xi', '| fifth derivative')\n",
    "while round(xi,6) <= 2.6:\n",
    "    print(round(xi,6) ,'|',fifth_diff(xi))\n",
    "    xi += 0.1"
   ]
  },
  {
   "cell_type": "code",
   "execution_count": 7,
   "metadata": {},
   "outputs": [
    {
     "name": "stdout",
     "output_type": "stream",
     "text": [
      "Error bounds for five-points endpoint\n",
      "max error for x in [2.1,2.5]: 0.1092719\n",
      "min error for x in [2.1,2.5]: 0.0037497\n",
      "max error for x in [2.2,2.6]: 0.0386885\n",
      "min error for x in [2.2,2.6]: 0.0020469\n",
      "------------------------------------------------------\n",
      "Error bounds for five-points midpoint\n",
      "max error for x in [2.1,2.5]: 0.018212\n",
      "min error for x in [2.1,2.5]: 0.000625\n",
      "max error for x in [2.2,2.6]: 0.0064481\n",
      "min error for x in [2.2,2.6]: 0.0003412\n"
     ]
    }
   ],
   "source": [
    "print('Error bounds for five-points endpoint')\n",
    "print('max error for x in [2.1,2.5]:',error_bound(2.1, 'end'))\n",
    "print('min error for x in [2.1,2.5]:',error_bound(2.5, 'end'))\n",
    "print('max error for x in [2.2,2.6]:',error_bound(2.2, 'end'))\n",
    "print('min error for x in [2.2,2.6]:',error_bound(2.6, 'end'))\n",
    "print('------------------------------------------------------')\n",
    "print('Error bounds for five-points midpoint')\n",
    "print('max error for x in [2.1,2.5]:',error_bound(2.1, 'mid'))\n",
    "print('min error for x in [2.1,2.5]:',error_bound(2.5, 'mid'))\n",
    "print('max error for x in [2.2,2.6]:',error_bound(2.2, 'mid'))\n",
    "print('min error for x in [2.2,2.6]:',error_bound(2.6, 'mid'))"
   ]
  }
 ],
 "metadata": {
  "kernelspec": {
   "display_name": "Python 3",
   "language": "python",
   "name": "python3"
  },
  "language_info": {
   "codemirror_mode": {
    "name": "ipython",
    "version": 3
   },
   "file_extension": ".py",
   "mimetype": "text/x-python",
   "name": "python",
   "nbconvert_exporter": "python",
   "pygments_lexer": "ipython3",
   "version": "3.8.3"
  }
 },
 "nbformat": 4,
 "nbformat_minor": 4
}
