{
 "cells": [
  {
   "cell_type": "markdown",
   "metadata": {},
   "source": [
    "**Problem 1.** Write a computer program to implement Richardson’s extrapolation for\n",
    "the forward difference formula to differentiate $f(x) = ln(x)$ at $x_{0} = 1$, with mesh size\n",
    "$h$ ranging from $0.1, 0.05, 0.025, 0.0125$. Output the errors after extrapolation, and\n",
    "verify that those are second order accurate results."
   ]
  },
  {
   "cell_type": "code",
   "execution_count": 36,
   "metadata": {},
   "outputs": [],
   "source": [
    "import numpy as np"
   ]
  },
  {
   "cell_type": "code",
   "execution_count": 37,
   "metadata": {},
   "outputs": [],
   "source": [
    "def diff_f(x):\n",
    "    return 1/x\n",
    "\n",
    "# using the forward difference formula\n",
    "def extra_result(x0,i):\n",
    "    h = 0.1*2**(-i)\n",
    "    result_hd2 = (f(x0+(h/2))-f(x0))/(h/2)\n",
    "    result_h = (f(x0+h)-f(x0))/h\n",
    "    return result_hd2, result_h"
   ]
  },
  {
   "cell_type": "code",
   "execution_count": 38,
   "metadata": {
    "scrolled": true
   },
   "outputs": [
    {
     "name": "stdout",
     "output_type": "stream",
     "text": [
      "h, error, error/h^2\n",
      "0.1 , 0.0014952312659674005 , 0.14952312659674002\n",
      "0.05 , 0.0003942761589279531 , 0.1577104635711812\n",
      "0.025 , 0.00010130384571904738 , 0.16208615315047578\n",
      "0.0125 , 2.5679680996648635e-05 , 0.16434995837855124\n"
     ]
    }
   ],
   "source": [
    "x0 = 1\n",
    "exact = diff_f(x0)\n",
    "print('h, error, error/h^2')\n",
    "for i in range(4):\n",
    "    h = 0.1*2**(-i)\n",
    "    result_hd2, result_h = extra_result(x0,i)\n",
    "    extra = 2*result_hd2-result_h\n",
    "    error = abs(exact-extra)\n",
    "    print(h,',', error,',', error/(h**2))"
   ]
  }
 ],
 "metadata": {
  "kernelspec": {
   "display_name": "Python 3",
   "language": "python",
   "name": "python3"
  },
  "language_info": {
   "codemirror_mode": {
    "name": "ipython",
    "version": 3
   },
   "file_extension": ".py",
   "mimetype": "text/x-python",
   "name": "python",
   "nbconvert_exporter": "python",
   "pygments_lexer": "ipython3",
   "version": "3.8.3"
  }
 },
 "nbformat": 4,
 "nbformat_minor": 4
}
