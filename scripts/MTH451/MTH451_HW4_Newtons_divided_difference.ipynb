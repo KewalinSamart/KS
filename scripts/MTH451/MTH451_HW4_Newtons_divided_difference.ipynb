{
 "cells": [
  {
   "cell_type": "code",
   "execution_count": 2,
   "metadata": {},
   "outputs": [],
   "source": [
    "def divided_difference(x_list,y_list):\n",
    "    return_y_list = list()\n",
    "    j = 0\n",
    "    while len(y_list) > 1:\n",
    "        updated_y_list = list()\n",
    "        for i in range(len(y_list)-1):\n",
    "            y_xi = y_list[i]\n",
    "            y_xi_next = y_list[i+1]\n",
    "            xi = x_list[i]\n",
    "            xi_next = x_list[i+1+j]\n",
    "            sub_divided_diff = (y_xi_next - y_xi)/(xi_next-xi)\n",
    "            updated_y_list.append(sub_divided_diff)\n",
    "        y_list = updated_y_list\n",
    "        j += 1\n",
    "        return_y_list.append(y_list)\n",
    "    return return_y_list"
   ]
  },
  {
   "cell_type": "code",
   "execution_count": 27,
   "metadata": {},
   "outputs": [
    {
     "name": "stdout",
     "output_type": "stream",
     "text": [
      "x vals:                      [-0.1, 0.0, 0.2, 0.3]\n",
      "f(x):                        [5.3, 2.0, 3.19, 1.0]\n",
      "First divided differences:   [-32.99999999999999, 5.949999999999999, -21.900000000000006]\n",
      "Second divided differences:  [129.8333333333333, -92.83333333333336]\n",
      "Third divided differences:   [-556.6666666666665]\n"
     ]
    }
   ],
   "source": [
    "x_list = [-0.1,0.0,0.2,0.3]   \n",
    "y_list = [5.3,2.0,3.19,1.0]\n",
    "divided_diff_values = divided_difference(x_list,y_list)\n",
    "print(\"x vals:                     \", x_list)\n",
    "print(\"f(x):                       \", y_list)\n",
    "print(\"First divided differences:  \", divided_diff_values[0])\n",
    "print(\"Second divided differences: \", divided_diff_values[1])\n",
    "print(\"Third divided differences:  \", divided_diff_values[2])"
   ]
  },
  {
   "cell_type": "code",
   "execution_count": 23,
   "metadata": {},
   "outputs": [],
   "source": [
    "def interpolating_poly(x_list, y_list):\n",
    "    dd_values = divided_difference(x_list,y_list)\n",
    "    n = len(dd_values)\n",
    "    prev_term = \"\"\n",
    "    for i in range(n+1):\n",
    "        if i == 0:\n",
    "            p = str(y_list[0])\n",
    "        else:\n",
    "            if dd_values[i-1][0] >= 0:\n",
    "                x_term = prev_term+\"(x-\"+str(x_list[i-1])+')'\n",
    "                prev_term = x_term\n",
    "                p = p+'+'+str(dd_values[i-1][0])+ x_term\n",
    "            else:\n",
    "                if x_list[i-1] >= 0:\n",
    "                    x_term = prev_term+\"(x-\"+str(x_list[i-1])+')'\n",
    "                    prev_term = x_term\n",
    "                    p = p+str(dd_values[i-1][0])+x_term\n",
    "                else:\n",
    "                    x_term = prev_term+\"(x+\"+str(abs(x_list[i-1]))+')'\n",
    "                    prev_term = x_term\n",
    "                    p = p+str(dd_values[i-1][0])+x_term\n",
    "    return p     "
   ]
  },
  {
   "cell_type": "code",
   "execution_count": 24,
   "metadata": {},
   "outputs": [
    {
     "name": "stdout",
     "output_type": "stream",
     "text": [
      "The interpolating polynomial for the given lists of x and y:\n",
      " 5.3-32.99999999999999(x+0.1)+129.8333333333333(x+0.1)(x-0.0)-556.6666666666665(x+0.1)(x-0.0)(x-0.2)\n"
     ]
    }
   ],
   "source": [
    "x_list = [-0.1,0.0,0.2,0.3]   \n",
    "y_list = [5.3,2.0,3.19,1.0]\n",
    "print(\"The interpolating polynomial for the given lists of x and y:\\n\",interpolating_poly(x_list, y_list))"
   ]
  },
  {
   "cell_type": "code",
   "execution_count": 18,
   "metadata": {},
   "outputs": [],
   "source": [
    "def value_interpolating_poly(x, x_list, y_list):\n",
    "    dd_values = divided_difference(x_list,y_list)\n",
    "    n = len(dd_values)\n",
    "    prev_term = 1\n",
    "    for i in range(n+1):\n",
    "        if i == 0:\n",
    "            p = y_list[0]\n",
    "        else:\n",
    "            x_term = prev_term*(x-x_list[i-1])\n",
    "            print(x_list[i-1])\n",
    "            prev_term = x_term\n",
    "            p = p+(dd_values[i-1][0])*x_term\n",
    "    return p"
   ]
  },
  {
   "cell_type": "code",
   "execution_count": 19,
   "metadata": {},
   "outputs": [
    {
     "name": "stdout",
     "output_type": "stream",
     "text": [
      "-0.1\n",
      "0.0\n",
      "0.2\n",
      "The value of the interpolating polynomial at x = 0.05 is: 1.9500000000000004\n"
     ]
    }
   ],
   "source": [
    "x_list = [-0.1,0.0,0.2,0.3]   \n",
    "y_list = [5.3,2.0,3.19,1.0]\n",
    "x = 0.05\n",
    "print(\"The value of the interpolating polynomial at x = 0.05 is:\",value_interpolating_poly(x, x_list, y_list))"
   ]
  },
  {
   "cell_type": "code",
   "execution_count": 21,
   "metadata": {},
   "outputs": [],
   "source": [
    "def f(x):\n",
    "    f_x = 5.3-32.99999999999999*(x+0.1)+129.8333333333333*(x+0.1)*(x-0.0)-556.6666666666665*(x+0.1)*(x-0.0)*(x-0.2)\n",
    "    return f_x"
   ]
  },
  {
   "cell_type": "code",
   "execution_count": 22,
   "metadata": {},
   "outputs": [
    {
     "name": "stdout",
     "output_type": "stream",
     "text": [
      "1.9500000000000006\n"
     ]
    }
   ],
   "source": [
    "print(f(0.05))"
   ]
  },
  {
   "cell_type": "code",
   "execution_count": null,
   "metadata": {},
   "outputs": [],
   "source": []
  }
 ],
 "metadata": {
  "kernelspec": {
   "display_name": "Python 3",
   "language": "python",
   "name": "python3"
  },
  "language_info": {
   "codemirror_mode": {
    "name": "ipython",
    "version": 3
   },
   "file_extension": ".py",
   "mimetype": "text/x-python",
   "name": "python",
   "nbconvert_exporter": "python",
   "pygments_lexer": "ipython3",
   "version": "3.8.3"
  }
 },
 "nbformat": 4,
 "nbformat_minor": 4
}
