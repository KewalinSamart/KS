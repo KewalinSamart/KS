{
 "cells": [
  {
   "cell_type": "code",
   "execution_count": 39,
   "metadata": {},
   "outputs": [],
   "source": [
    "def divided_difference(x_list,y_list):\n",
    "    return_y_list = list()\n",
    "    j = 0\n",
    "    while len(y_list) > 1:\n",
    "        updated_y_list = list()\n",
    "        for i in range(len(y_list)-1):\n",
    "            y_xi = y_list[i]\n",
    "            y_xi_next = y_list[i+1]\n",
    "            xi = x_list[i]\n",
    "            xi_next = x_list[i+1+j]\n",
    "            sub_divided_diff = (y_xi_next - y_xi)/(xi_next-xi)\n",
    "            updated_y_list.append(sub_divided_diff)\n",
    "        y_list = updated_y_list\n",
    "        j += 1\n",
    "        return_y_list.append(y_list)\n",
    "    return return_y_list"
   ]
  },
  {
   "cell_type": "code",
   "execution_count": 40,
   "metadata": {},
   "outputs": [
    {
     "data": {
      "text/plain": [
       "[[-0.4837056666666664, -0.548946, -0.5786120000000003, -0.5715209999999994],\n",
       " [-0.10873388888888935, -0.04944333333333385, 0.011818333333334928],\n",
       " [0.06587839506172834, 0.06806851851852086],\n",
       " [0.0018251028806604353]]"
      ]
     },
     "execution_count": 40,
     "metadata": {},
     "output_type": "execute_result"
    }
   ],
   "source": [
    "x_list = [1.0,1.3,1.6,1.9,2.2]   \n",
    "y_list = [0.7651977,0.6200860,0.4554022,0.2818186,0.1103623]\n",
    "divided_difference(x_list,y_list)"
   ]
  },
  {
   "cell_type": "code",
   "execution_count": 75,
   "metadata": {},
   "outputs": [],
   "source": [
    "def interpolating_poly(x_list, y_list):\n",
    "    dd_values = divided_difference(x_list,y_list)\n",
    "    n = len(dd_values)\n",
    "    prev_term = \"\"\n",
    "    for i in range(n+1):\n",
    "        if i == 0:\n",
    "            p = str(y_list[0])\n",
    "        else:\n",
    "            if dd_values[i-1][0] >= 0:\n",
    "                x_term = prev_term+\"(x-\"+str(x_list[i-1])+')'\n",
    "                prev_term = x_term\n",
    "                p = p+'+'+str(dd_values[i-1][0])+ x_term\n",
    "            else:\n",
    "                if x_list[i-1] >= 0:\n",
    "                    x_term = prev_term+\"(x-\"+str(x_list[i-1])+')'\n",
    "                    prev_term = x_term\n",
    "                    p = p+str(dd_values[i-1][0])+x_term\n",
    "                else:\n",
    "                    x_term = prev_term+\"(x\"+str(x_list[i-1])+')'\n",
    "                    prev_term = x_term\n",
    "                    p = p+str(dd_values[i-1][0])+x_term\n",
    "    return p     "
   ]
  },
  {
   "cell_type": "code",
   "execution_count": 77,
   "metadata": {},
   "outputs": [
    {
     "data": {
      "text/plain": [
       "'0.7651977-0.4837056666666664(x-1.0)-0.10873388888888935(x-1.0)(x-1.3)+0.06587839506172834(x-1.0)(x-1.3)(x-1.6)+0.0018251028806604353(x-1.0)(x-1.3)(x-1.6)(x-1.9)'"
      ]
     },
     "execution_count": 77,
     "metadata": {},
     "output_type": "execute_result"
    }
   ],
   "source": [
    "x_list = [1.0,1.3,1.6,1.9,2.2]   \n",
    "y_list = [0.7651977,0.6200860,0.4554022,0.2818186,0.1103623]\n",
    "interpolating_poly(x_list, y_list)"
   ]
  },
  {
   "cell_type": "code",
   "execution_count": 79,
   "metadata": {},
   "outputs": [],
   "source": [
    "def value_interpolating_poly(x, x_list, y_list):\n",
    "    dd_values = divided_difference(x_list,y_list)\n",
    "    n = len(dd_values)\n",
    "    prev_term = 1\n",
    "    for i in range(n+1):\n",
    "        if i == 0:\n",
    "            p = y_list[0]\n",
    "        else:\n",
    "            x_term = prev_term*(x-x_list[i-1])\n",
    "            prev_term = x_term\n",
    "            p = p+(dd_values[i-1][0])*x_term\n",
    "    return p"
   ]
  },
  {
   "cell_type": "code",
   "execution_count": 83,
   "metadata": {},
   "outputs": [
    {
     "data": {
      "text/plain": [
       "0.9805539298482571"
      ]
     },
     "execution_count": 83,
     "metadata": {},
     "output_type": "execute_result"
    }
   ],
   "source": [
    "x_list = [1.0,1.3,1.6,1.9,2.2]   \n",
    "y_list = [0.7651977,0.6200860,0.4554022,0.2818186,0.1103623]\n",
    "x = 0.05\n",
    "value_interpolating_poly(x, x_list, y_list)"
   ]
  }
 ],
 "metadata": {
  "kernelspec": {
   "display_name": "Python 3",
   "language": "python",
   "name": "python3"
  },
  "language_info": {
   "codemirror_mode": {
    "name": "ipython",
    "version": 3
   },
   "file_extension": ".py",
   "mimetype": "text/x-python",
   "name": "python",
   "nbconvert_exporter": "python",
   "pygments_lexer": "ipython3",
   "version": "3.8.3"
  }
 },
 "nbformat": 4,
 "nbformat_minor": 4
}
