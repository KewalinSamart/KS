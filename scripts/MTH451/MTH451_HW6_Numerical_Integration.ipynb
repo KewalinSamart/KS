{
 "cells": [
  {
   "cell_type": "markdown",
   "metadata": {},
   "source": [
    "**Problem 2.** Using trapezoidal rule, Simpson’s rule, Simpson’s three-eights rule, midpoint rule to approximate\n",
    "$$\\int_{1.1}^{1.5} e^x \\,dx$$\n",
    "Output the error. Are the accuracies of the approximations consistent with the error\n",
    "formulas."
   ]
  },
  {
   "cell_type": "code",
   "execution_count": 33,
   "metadata": {},
   "outputs": [],
   "source": [
    "import math\n",
    "\n",
    "# f(x) = e^x\n",
    "def f(x):\n",
    "    return math.exp(x)\n",
    "\n",
    "# the error bound calculations were designed for f(x) = e^x\n",
    "# closed Newton-Cotes formulas\n",
    "def trapezoidal(x0,x1): # n=1\n",
    "    h = x1-x0\n",
    "    trap = h/2*(f(x0)+f(x1))\n",
    "    error_bound = (h**3)/12*f(x1)\n",
    "    return [trap, error_bound]\n",
    "\n",
    "def simpson(x0,x2): # n=2\n",
    "    h = (x2-x0)/2\n",
    "    x1 = x0+h\n",
    "    simpson = h/3*(f(x0)+4*f(x1)+f(x2))\n",
    "    error_bound = (h**5)/90*f(x2)\n",
    "    return [simpson, error_bound]\n",
    "\n",
    "def simpson_eight(x0,x3): # n=3\n",
    "    h = (x3-x0)/3\n",
    "    x1 = x0+h\n",
    "    x2 = x0+2*h\n",
    "    simpson_eight = 3*h/8*(f(x0)+3*f(x1)+3*f(x2)+f(x3))\n",
    "    error_bound = 3*(h**5)/90*f(x3)\n",
    "    return [simpson_eight, error_bound]\n",
    "\n",
    "# open Newton-Cotes formula\n",
    "def midpoint(x_1, x1): # n=0\n",
    "    h = (x1-x_1)/2\n",
    "    x0 = x_1+h\n",
    "    midpoint = 2*h*f(x0)\n",
    "    error_bound = (h**3)/3*f(x1)\n",
    "    return [midpoint, error_bound]\n",
    "\n",
    "# integral of e^x from 1.1 to 1.5\n",
    "exact = 1.477523046391632"
   ]
  },
  {
   "cell_type": "code",
   "execution_count": 29,
   "metadata": {},
   "outputs": [
    {
     "name": "stdout",
     "output_type": "stream",
     "text": [
      "Exact value, Trapezodial rule, Simpsons Rule, Simpsons three-eights Rule, Mid-point Rule\n",
      "1.477523046391632 1.4971710188568992 1.4775361176507646 1.4775288589118205 1.4677186670476974\n"
     ]
    }
   ],
   "source": [
    "print('Exact value, Trapezodial rule, Simpsons Rule, Simpsons three-eights Rule, Mid-point Rule')\n",
    "print(exact, trapezoidal(1.1,1.5)[0],  simpson(1.1,1.5)[0], simpson_eight(1.1,1.5)[0], midpoint(1.1,1.5)[0])"
   ]
  },
  {
   "cell_type": "code",
   "execution_count": 30,
   "metadata": {},
   "outputs": [
    {
     "name": "stdout",
     "output_type": "stream",
     "text": [
      "-------Absolute Errors-------\n",
      "Trapezodial rule, Simpsons Rule, Simpsons three-eights Rule, Mid-point Rule\n",
      "0.01964797246526717 1.3071259132635404e-05 5.8125201884973166e-06 0.009804379343934633\n"
     ]
    }
   ],
   "source": [
    "print('-------Absolute Errors-------')\n",
    "print('Trapezodial rule, Simpsons Rule, Simpsons three-eights Rule, Mid-point Rule')\n",
    "print(abs(exact-trapezoidal(1.1,1.5)[0]), abs(exact-simpson(1.1,1.5)[0]), \n",
    "      abs(exact-simpson_eight(1.1,1.5)[0]), abs(exact-midpoint(1.1,1.5)[0]))"
   ]
  },
  {
   "cell_type": "code",
   "execution_count": 32,
   "metadata": {},
   "outputs": [
    {
     "name": "stdout",
     "output_type": "stream",
     "text": [
      "-------Max Errors based on the error formulas-------\n",
      "Trapezodial rule, Simpsons Rule, Simpsons three-eights Rule, Mid-point Rule\n",
      "0.023902341708469662 1.5934894472313102e-05 6.295266952024929e-06 0.011951170854234831\n"
     ]
    }
   ],
   "source": [
    "print('-------Max Errors based on the error formulas-------')\n",
    "print('Trapezodial rule, Simpsons Rule, Simpsons three-eights Rule, Mid-point Rule')\n",
    "print(trapezoidal(1.1,1.5)[1],  simpson(1.1,1.5)[1], simpson_eight(1.1,1.5)[1], midpoint(1.1,1.5)[1])"
   ]
  }
 ],
 "metadata": {
  "kernelspec": {
   "display_name": "Python 3",
   "language": "python",
   "name": "python3"
  },
  "language_info": {
   "codemirror_mode": {
    "name": "ipython",
    "version": 3
   },
   "file_extension": ".py",
   "mimetype": "text/x-python",
   "name": "python",
   "nbconvert_exporter": "python",
   "pygments_lexer": "ipython3",
   "version": "3.8.3"
  }
 },
 "nbformat": 4,
 "nbformat_minor": 4
}
